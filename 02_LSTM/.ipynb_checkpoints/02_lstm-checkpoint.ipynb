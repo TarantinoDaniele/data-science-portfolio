{
 "cells": [
  {
   "cell_type": "markdown",
   "id": "111d579d",
   "metadata": {},
   "source": [
    "# Long short-term memory"
   ]
  },
  {
   "cell_type": "code",
   "execution_count": 4,
   "id": "6aabbcbc",
   "metadata": {},
   "outputs": [
    {
     "data": {
      "text/html": [
       "<style>.container { width:90% !important; }</style>"
      ],
      "text/plain": [
       "<IPython.core.display.HTML object>"
      ]
     },
     "metadata": {},
     "output_type": "display_data"
    }
   ],
   "source": [
    "from IPython.core.display import display, HTML\n",
    "display(HTML(\"<style>.container { width:90% !important; }</style>\"))\n",
    "\n",
    "#!jupyter nbconvert --to script \"01 Data Preparation.ipynb\" "
   ]
  },
  {
   "cell_type": "code",
   "execution_count": 5,
   "id": "f863f5fc",
   "metadata": {},
   "outputs": [],
   "source": [
    "#import csv\n",
    "import os\n",
    "import pandas as pd\n",
    "import numpy as np\n",
    "#from scipy import stats\n",
    "#import matplotlib\n",
    "#import matplotlib.pyplot as plt\n",
    "#import seaborn as sns\n",
    "#from datetime import date\n",
    "#from datetime import timedelta\n",
    "#import holidays\n",
    "#\n",
    "#from sklearn import metrics\n",
    "#from sklearn.preprocessing import LabelEncoder\n",
    "from sklearn.preprocessing import MinMaxScaler\n",
    "#import tensorflow as tf\n",
    "#\n",
    "#%matplotlib inline\n",
    "#pd.set_option('display.float_format', lambda x: '%.f' % x)"
   ]
  },
  {
   "cell_type": "markdown",
   "id": "3f8c364c",
   "metadata": {},
   "source": [
    "Vorbereitete Daten importieren"
   ]
  },
  {
   "cell_type": "code",
   "execution_count": 10,
   "id": "843c7522",
   "metadata": {},
   "outputs": [],
   "source": [
    "data= pd.read_csv('household_power_consumption.csv', index_col=['datetime'])"
   ]
  },
  {
   "cell_type": "code",
   "execution_count": 11,
   "id": "368a660f",
   "metadata": {},
   "outputs": [],
   "source": [
    "data.drop(['Sub_metering_1', 'Sub_metering_2','Sub_metering_3'], axis=1, inplace= True)"
   ]
  },
  {
   "cell_type": "code",
   "execution_count": null,
   "id": "d6c7dda6",
   "metadata": {},
   "outputs": [],
   "source": []
  },
  {
   "cell_type": "code",
   "execution_count": 12,
   "id": "7dd20dec",
   "metadata": {},
   "outputs": [],
   "source": [
    "X_scaler = MinMaxScaler()\n",
    "Y_scaler = MinMaxScaler()\n",
    "\n",
    "X_data = X_scaler.fit_transform(data[['Global_active_power', 'Global_reactive_power', 'Voltage','Global_intensity', 'sub_metering_4']])\n",
    "Y_data = Y_scaler.fit_transform(data[['sub_metering_4']])"
   ]
  },
  {
   "cell_type": "code",
   "execution_count": 13,
   "id": "3684ec2c",
   "metadata": {},
   "outputs": [],
   "source": [
    "# Validierungsdaten müssen vom Ende der Zeitreihe verwendet werden. Diese Daten müssen aus dem Train/Test-Set enfernt werden.\n",
    "tim = (24*60)\n",
    "\n",
    "validate = data.tail((7*tim))\n",
    "data.drop(data.tail((7*tim)).index, inplace= True)"
   ]
  },
  {
   "cell_type": "code",
   "execution_count": 14,
   "id": "56d8ae22",
   "metadata": {},
   "outputs": [],
   "source": [
    "# Funktion zur Aufbereitung der Daten zur Vorhersage\n",
    "def custom_data_prep(dataset, target, start, end, window, horizon):\n",
    "    X = []\n",
    "    y = []\n",
    "    start = start + window\n",
    "    if end is None:\n",
    "        end = len(dataset) - horizon\n",
    "    for i in range(start, end):\n",
    "        indices = range(i-window, i)\n",
    "        X.append(dataset[indices])\n",
    "        indicey = range(i+1, i+1+horizon)\n",
    "        y.append(target[indicey])\n",
    "    return np.array(X), np.array(y)"
   ]
  },
  {
   "cell_type": "code",
   "execution_count": null,
   "id": "ab30c1bc",
   "metadata": {},
   "outputs": [],
   "source": [
    "#FUNKTIONIERT NOCH NICHT ---TRAIN-SPLIT ANALYSIEREN---\n",
    "\n",
    "\n",
    "# Konfigurieren der Zeitfenster Vergangenheit und Zukunft (Multistep forecasting)\n",
    "#\n",
    "#hist_window = (366*tim) #Rückblick auf das letzte Jahr\n",
    "#horizon = (7*tim)       #Blick in die Zukunft\n",
    "#train_split = 30000\n",
    "#\n",
    "#x_train, y_train = custom_data_prep(X_data, Y_data, 0, train_split, hist_window, horizon)\n",
    "#x_vali, y_vali = custom_data_prep(X_data, Y_data, train_split, None, hist_window, horizon)"
   ]
  },
  {
   "cell_type": "code",
   "execution_count": null,
   "id": "87198d28",
   "metadata": {},
   "outputs": [],
   "source": [
    "# print ('Multiple window of past history\\n')\n",
    "# print(x_train[0])\n",
    "# print ('\\n Target horizon\\n')\n",
    "# print (y_train[0])"
   ]
  },
  {
   "cell_type": "code",
   "execution_count": null,
   "id": "fb0f4795",
   "metadata": {},
   "outputs": [],
   "source": []
  }
 ],
 "metadata": {
  "kernelspec": {
   "display_name": "Python 3 (ipykernel)",
   "language": "python",
   "name": "python3"
  },
  "language_info": {
   "codemirror_mode": {
    "name": "ipython",
    "version": 3
   },
   "file_extension": ".py",
   "mimetype": "text/x-python",
   "name": "python",
   "nbconvert_exporter": "python",
   "pygments_lexer": "ipython3",
   "version": "3.8.12"
  }
 },
 "nbformat": 4,
 "nbformat_minor": 5
}
