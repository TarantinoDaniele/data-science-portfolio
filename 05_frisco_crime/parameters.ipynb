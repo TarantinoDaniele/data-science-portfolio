{
 "cells": [
  {
   "cell_type": "code",
   "execution_count": null,
   "id": "e37c0152",
   "metadata": {},
   "outputs": [],
   "source": [
    "# generate a .py for parameter storage\n",
    "#!jupyter nbconvert --to script parameters.ipynb"
   ]
  },
  {
   "cell_type": "code",
   "execution_count": null,
   "id": "f1f8be7f",
   "metadata": {},
   "outputs": [],
   "source": [
    "import os\n",
    "\n",
    "from IPython.core.display import display, HTML\n",
    "display(HTML(\"<style>.container { width: 90% !important; }</style>\"))"
   ]
  },
  {
   "cell_type": "markdown",
   "id": "905389f4",
   "metadata": {},
   "source": [
    "## Import fun"
   ]
  },
  {
   "cell_type": "code",
   "execution_count": null,
   "id": "84237437",
   "metadata": {},
   "outputs": [],
   "source": [
    "def open_csvfile(filename):\n",
    "    pwd = os.getcwd()\n",
    "    path_dir = pwd\n",
    "    filename = filename\n",
    "    \n",
    "    path: str = path_dir + '\\\\' + filename\n",
    "    return path"
   ]
  },
  {
   "cell_type": "code",
   "execution_count": null,
   "id": "a6011be3",
   "metadata": {},
   "outputs": [],
   "source": []
  }
 ],
 "metadata": {
  "kernelspec": {
   "display_name": "Python 3 (ipykernel)",
   "language": "python",
   "name": "python3"
  },
  "language_info": {
   "codemirror_mode": {
    "name": "ipython",
    "version": 3
   },
   "file_extension": ".py",
   "mimetype": "text/x-python",
   "name": "python",
   "nbconvert_exporter": "python",
   "pygments_lexer": "ipython3",
   "version": "3.9.7"
  }
 },
 "nbformat": 4,
 "nbformat_minor": 5
}
