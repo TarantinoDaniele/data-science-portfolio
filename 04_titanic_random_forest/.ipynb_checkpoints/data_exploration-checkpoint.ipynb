{
 "cells": [
  {
   "cell_type": "code",
   "execution_count": 1,
   "id": "6aefb91b",
   "metadata": {},
   "outputs": [
    {
     "data": {
      "text/html": [
       "<style>.container { width: 90% !important; }</style>"
      ],
      "text/plain": [
       "<IPython.core.display.HTML object>"
      ]
     },
     "metadata": {},
     "output_type": "display_data"
    }
   ],
   "source": [
    "# Loading package\n",
    "\n",
    "import os\n",
    "import numpy as np\n",
    "import pandas as pd\n",
    "import re\n",
    "import seaborn as sns\n",
    "import matplotlib.pyplot as plt\n",
    "\n",
    "from sklearn.experimental import enable_iterative_imputer\n",
    "from sklearn.impute import IterativeImputer\n",
    "from sklearn.preprocessing import LabelEncoder\n",
    "from sklearn.impute import KNNImputer\n",
    "\n",
    "from parameters import *"
   ]
  },
  {
   "cell_type": "markdown",
   "id": "294967b4",
   "metadata": {},
   "source": [
    "# 1. Load data"
   ]
  },
  {
   "cell_type": "markdown",
   "id": "af517db3",
   "metadata": {},
   "source": [
    "Let's load our train set and have a look in our data....uhhhh im so excited!"
   ]
  },
  {
   "cell_type": "code",
   "execution_count": 2,
   "id": "dd242cec",
   "metadata": {},
   "outputs": [
    {
     "data": {
      "text/html": [
       "<div>\n",
       "<style scoped>\n",
       "    .dataframe tbody tr th:only-of-type {\n",
       "        vertical-align: middle;\n",
       "    }\n",
       "\n",
       "    .dataframe tbody tr th {\n",
       "        vertical-align: top;\n",
       "    }\n",
       "\n",
       "    .dataframe thead th {\n",
       "        text-align: right;\n",
       "    }\n",
       "</style>\n",
       "<table border=\"1\" class=\"dataframe\">\n",
       "  <thead>\n",
       "    <tr style=\"text-align: right;\">\n",
       "      <th></th>\n",
       "      <th>PassengerId</th>\n",
       "      <th>Survived</th>\n",
       "      <th>Pclass</th>\n",
       "      <th>Name</th>\n",
       "      <th>Sex</th>\n",
       "      <th>Age</th>\n",
       "      <th>SibSp</th>\n",
       "      <th>Parch</th>\n",
       "      <th>Ticket</th>\n",
       "      <th>Fare</th>\n",
       "      <th>Cabin</th>\n",
       "      <th>Embarked</th>\n",
       "    </tr>\n",
       "  </thead>\n",
       "  <tbody>\n",
       "    <tr>\n",
       "      <th>0</th>\n",
       "      <td>1</td>\n",
       "      <td>0</td>\n",
       "      <td>3</td>\n",
       "      <td>Braund, Mr. Owen Harris</td>\n",
       "      <td>male</td>\n",
       "      <td>22.0</td>\n",
       "      <td>1</td>\n",
       "      <td>0</td>\n",
       "      <td>A/5 21171</td>\n",
       "      <td>7.2500</td>\n",
       "      <td>NaN</td>\n",
       "      <td>S</td>\n",
       "    </tr>\n",
       "    <tr>\n",
       "      <th>1</th>\n",
       "      <td>2</td>\n",
       "      <td>1</td>\n",
       "      <td>1</td>\n",
       "      <td>Cumings, Mrs. John Bradley (Florence Briggs Th...</td>\n",
       "      <td>female</td>\n",
       "      <td>38.0</td>\n",
       "      <td>1</td>\n",
       "      <td>0</td>\n",
       "      <td>PC 17599</td>\n",
       "      <td>71.2833</td>\n",
       "      <td>C85</td>\n",
       "      <td>C</td>\n",
       "    </tr>\n",
       "    <tr>\n",
       "      <th>2</th>\n",
       "      <td>3</td>\n",
       "      <td>1</td>\n",
       "      <td>3</td>\n",
       "      <td>Heikkinen, Miss. Laina</td>\n",
       "      <td>female</td>\n",
       "      <td>26.0</td>\n",
       "      <td>0</td>\n",
       "      <td>0</td>\n",
       "      <td>STON/O2. 3101282</td>\n",
       "      <td>7.9250</td>\n",
       "      <td>NaN</td>\n",
       "      <td>S</td>\n",
       "    </tr>\n",
       "    <tr>\n",
       "      <th>3</th>\n",
       "      <td>4</td>\n",
       "      <td>1</td>\n",
       "      <td>1</td>\n",
       "      <td>Futrelle, Mrs. Jacques Heath (Lily May Peel)</td>\n",
       "      <td>female</td>\n",
       "      <td>35.0</td>\n",
       "      <td>1</td>\n",
       "      <td>0</td>\n",
       "      <td>113803</td>\n",
       "      <td>53.1000</td>\n",
       "      <td>C123</td>\n",
       "      <td>S</td>\n",
       "    </tr>\n",
       "    <tr>\n",
       "      <th>4</th>\n",
       "      <td>5</td>\n",
       "      <td>0</td>\n",
       "      <td>3</td>\n",
       "      <td>Allen, Mr. William Henry</td>\n",
       "      <td>male</td>\n",
       "      <td>35.0</td>\n",
       "      <td>0</td>\n",
       "      <td>0</td>\n",
       "      <td>373450</td>\n",
       "      <td>8.0500</td>\n",
       "      <td>NaN</td>\n",
       "      <td>S</td>\n",
       "    </tr>\n",
       "    <tr>\n",
       "      <th>5</th>\n",
       "      <td>6</td>\n",
       "      <td>0</td>\n",
       "      <td>3</td>\n",
       "      <td>Moran, Mr. James</td>\n",
       "      <td>male</td>\n",
       "      <td>NaN</td>\n",
       "      <td>0</td>\n",
       "      <td>0</td>\n",
       "      <td>330877</td>\n",
       "      <td>8.4583</td>\n",
       "      <td>NaN</td>\n",
       "      <td>Q</td>\n",
       "    </tr>\n",
       "    <tr>\n",
       "      <th>6</th>\n",
       "      <td>7</td>\n",
       "      <td>0</td>\n",
       "      <td>1</td>\n",
       "      <td>McCarthy, Mr. Timothy J</td>\n",
       "      <td>male</td>\n",
       "      <td>54.0</td>\n",
       "      <td>0</td>\n",
       "      <td>0</td>\n",
       "      <td>17463</td>\n",
       "      <td>51.8625</td>\n",
       "      <td>E46</td>\n",
       "      <td>S</td>\n",
       "    </tr>\n",
       "    <tr>\n",
       "      <th>7</th>\n",
       "      <td>8</td>\n",
       "      <td>0</td>\n",
       "      <td>3</td>\n",
       "      <td>Palsson, Master. Gosta Leonard</td>\n",
       "      <td>male</td>\n",
       "      <td>2.0</td>\n",
       "      <td>3</td>\n",
       "      <td>1</td>\n",
       "      <td>349909</td>\n",
       "      <td>21.0750</td>\n",
       "      <td>NaN</td>\n",
       "      <td>S</td>\n",
       "    </tr>\n",
       "    <tr>\n",
       "      <th>8</th>\n",
       "      <td>9</td>\n",
       "      <td>1</td>\n",
       "      <td>3</td>\n",
       "      <td>Johnson, Mrs. Oscar W (Elisabeth Vilhelmina Berg)</td>\n",
       "      <td>female</td>\n",
       "      <td>27.0</td>\n",
       "      <td>0</td>\n",
       "      <td>2</td>\n",
       "      <td>347742</td>\n",
       "      <td>11.1333</td>\n",
       "      <td>NaN</td>\n",
       "      <td>S</td>\n",
       "    </tr>\n",
       "    <tr>\n",
       "      <th>9</th>\n",
       "      <td>10</td>\n",
       "      <td>1</td>\n",
       "      <td>2</td>\n",
       "      <td>Nasser, Mrs. Nicholas (Adele Achem)</td>\n",
       "      <td>female</td>\n",
       "      <td>14.0</td>\n",
       "      <td>1</td>\n",
       "      <td>0</td>\n",
       "      <td>237736</td>\n",
       "      <td>30.0708</td>\n",
       "      <td>NaN</td>\n",
       "      <td>C</td>\n",
       "    </tr>\n",
       "    <tr>\n",
       "      <th>10</th>\n",
       "      <td>11</td>\n",
       "      <td>1</td>\n",
       "      <td>3</td>\n",
       "      <td>Sandstrom, Miss. Marguerite Rut</td>\n",
       "      <td>female</td>\n",
       "      <td>4.0</td>\n",
       "      <td>1</td>\n",
       "      <td>1</td>\n",
       "      <td>PP 9549</td>\n",
       "      <td>16.7000</td>\n",
       "      <td>G6</td>\n",
       "      <td>S</td>\n",
       "    </tr>\n",
       "    <tr>\n",
       "      <th>11</th>\n",
       "      <td>12</td>\n",
       "      <td>1</td>\n",
       "      <td>1</td>\n",
       "      <td>Bonnell, Miss. Elizabeth</td>\n",
       "      <td>female</td>\n",
       "      <td>58.0</td>\n",
       "      <td>0</td>\n",
       "      <td>0</td>\n",
       "      <td>113783</td>\n",
       "      <td>26.5500</td>\n",
       "      <td>C103</td>\n",
       "      <td>S</td>\n",
       "    </tr>\n",
       "    <tr>\n",
       "      <th>12</th>\n",
       "      <td>13</td>\n",
       "      <td>0</td>\n",
       "      <td>3</td>\n",
       "      <td>Saundercock, Mr. William Henry</td>\n",
       "      <td>male</td>\n",
       "      <td>20.0</td>\n",
       "      <td>0</td>\n",
       "      <td>0</td>\n",
       "      <td>A/5. 2151</td>\n",
       "      <td>8.0500</td>\n",
       "      <td>NaN</td>\n",
       "      <td>S</td>\n",
       "    </tr>\n",
       "    <tr>\n",
       "      <th>13</th>\n",
       "      <td>14</td>\n",
       "      <td>0</td>\n",
       "      <td>3</td>\n",
       "      <td>Andersson, Mr. Anders Johan</td>\n",
       "      <td>male</td>\n",
       "      <td>39.0</td>\n",
       "      <td>1</td>\n",
       "      <td>5</td>\n",
       "      <td>347082</td>\n",
       "      <td>31.2750</td>\n",
       "      <td>NaN</td>\n",
       "      <td>S</td>\n",
       "    </tr>\n",
       "    <tr>\n",
       "      <th>14</th>\n",
       "      <td>15</td>\n",
       "      <td>0</td>\n",
       "      <td>3</td>\n",
       "      <td>Vestrom, Miss. Hulda Amanda Adolfina</td>\n",
       "      <td>female</td>\n",
       "      <td>14.0</td>\n",
       "      <td>0</td>\n",
       "      <td>0</td>\n",
       "      <td>350406</td>\n",
       "      <td>7.8542</td>\n",
       "      <td>NaN</td>\n",
       "      <td>S</td>\n",
       "    </tr>\n",
       "    <tr>\n",
       "      <th>15</th>\n",
       "      <td>16</td>\n",
       "      <td>1</td>\n",
       "      <td>2</td>\n",
       "      <td>Hewlett, Mrs. (Mary D Kingcome)</td>\n",
       "      <td>female</td>\n",
       "      <td>55.0</td>\n",
       "      <td>0</td>\n",
       "      <td>0</td>\n",
       "      <td>248706</td>\n",
       "      <td>16.0000</td>\n",
       "      <td>NaN</td>\n",
       "      <td>S</td>\n",
       "    </tr>\n",
       "    <tr>\n",
       "      <th>16</th>\n",
       "      <td>17</td>\n",
       "      <td>0</td>\n",
       "      <td>3</td>\n",
       "      <td>Rice, Master. Eugene</td>\n",
       "      <td>male</td>\n",
       "      <td>2.0</td>\n",
       "      <td>4</td>\n",
       "      <td>1</td>\n",
       "      <td>382652</td>\n",
       "      <td>29.1250</td>\n",
       "      <td>NaN</td>\n",
       "      <td>Q</td>\n",
       "    </tr>\n",
       "    <tr>\n",
       "      <th>17</th>\n",
       "      <td>18</td>\n",
       "      <td>1</td>\n",
       "      <td>2</td>\n",
       "      <td>Williams, Mr. Charles Eugene</td>\n",
       "      <td>male</td>\n",
       "      <td>NaN</td>\n",
       "      <td>0</td>\n",
       "      <td>0</td>\n",
       "      <td>244373</td>\n",
       "      <td>13.0000</td>\n",
       "      <td>NaN</td>\n",
       "      <td>S</td>\n",
       "    </tr>\n",
       "    <tr>\n",
       "      <th>18</th>\n",
       "      <td>19</td>\n",
       "      <td>0</td>\n",
       "      <td>3</td>\n",
       "      <td>Vander Planke, Mrs. Julius (Emelia Maria Vande...</td>\n",
       "      <td>female</td>\n",
       "      <td>31.0</td>\n",
       "      <td>1</td>\n",
       "      <td>0</td>\n",
       "      <td>345763</td>\n",
       "      <td>18.0000</td>\n",
       "      <td>NaN</td>\n",
       "      <td>S</td>\n",
       "    </tr>\n",
       "    <tr>\n",
       "      <th>19</th>\n",
       "      <td>20</td>\n",
       "      <td>1</td>\n",
       "      <td>3</td>\n",
       "      <td>Masselmani, Mrs. Fatima</td>\n",
       "      <td>female</td>\n",
       "      <td>NaN</td>\n",
       "      <td>0</td>\n",
       "      <td>0</td>\n",
       "      <td>2649</td>\n",
       "      <td>7.2250</td>\n",
       "      <td>NaN</td>\n",
       "      <td>C</td>\n",
       "    </tr>\n",
       "  </tbody>\n",
       "</table>\n",
       "</div>"
      ],
      "text/plain": [
       "    PassengerId  Survived  Pclass  \\\n",
       "0             1         0       3   \n",
       "1             2         1       1   \n",
       "2             3         1       3   \n",
       "3             4         1       1   \n",
       "4             5         0       3   \n",
       "5             6         0       3   \n",
       "6             7         0       1   \n",
       "7             8         0       3   \n",
       "8             9         1       3   \n",
       "9            10         1       2   \n",
       "10           11         1       3   \n",
       "11           12         1       1   \n",
       "12           13         0       3   \n",
       "13           14         0       3   \n",
       "14           15         0       3   \n",
       "15           16         1       2   \n",
       "16           17         0       3   \n",
       "17           18         1       2   \n",
       "18           19         0       3   \n",
       "19           20         1       3   \n",
       "\n",
       "                                                 Name     Sex   Age  SibSp  \\\n",
       "0                             Braund, Mr. Owen Harris    male  22.0      1   \n",
       "1   Cumings, Mrs. John Bradley (Florence Briggs Th...  female  38.0      1   \n",
       "2                              Heikkinen, Miss. Laina  female  26.0      0   \n",
       "3        Futrelle, Mrs. Jacques Heath (Lily May Peel)  female  35.0      1   \n",
       "4                            Allen, Mr. William Henry    male  35.0      0   \n",
       "5                                    Moran, Mr. James    male   NaN      0   \n",
       "6                             McCarthy, Mr. Timothy J    male  54.0      0   \n",
       "7                      Palsson, Master. Gosta Leonard    male   2.0      3   \n",
       "8   Johnson, Mrs. Oscar W (Elisabeth Vilhelmina Berg)  female  27.0      0   \n",
       "9                 Nasser, Mrs. Nicholas (Adele Achem)  female  14.0      1   \n",
       "10                    Sandstrom, Miss. Marguerite Rut  female   4.0      1   \n",
       "11                           Bonnell, Miss. Elizabeth  female  58.0      0   \n",
       "12                     Saundercock, Mr. William Henry    male  20.0      0   \n",
       "13                        Andersson, Mr. Anders Johan    male  39.0      1   \n",
       "14               Vestrom, Miss. Hulda Amanda Adolfina  female  14.0      0   \n",
       "15                   Hewlett, Mrs. (Mary D Kingcome)   female  55.0      0   \n",
       "16                               Rice, Master. Eugene    male   2.0      4   \n",
       "17                       Williams, Mr. Charles Eugene    male   NaN      0   \n",
       "18  Vander Planke, Mrs. Julius (Emelia Maria Vande...  female  31.0      1   \n",
       "19                            Masselmani, Mrs. Fatima  female   NaN      0   \n",
       "\n",
       "    Parch            Ticket     Fare Cabin Embarked  \n",
       "0       0         A/5 21171   7.2500   NaN        S  \n",
       "1       0          PC 17599  71.2833   C85        C  \n",
       "2       0  STON/O2. 3101282   7.9250   NaN        S  \n",
       "3       0            113803  53.1000  C123        S  \n",
       "4       0            373450   8.0500   NaN        S  \n",
       "5       0            330877   8.4583   NaN        Q  \n",
       "6       0             17463  51.8625   E46        S  \n",
       "7       1            349909  21.0750   NaN        S  \n",
       "8       2            347742  11.1333   NaN        S  \n",
       "9       0            237736  30.0708   NaN        C  \n",
       "10      1           PP 9549  16.7000    G6        S  \n",
       "11      0            113783  26.5500  C103        S  \n",
       "12      0         A/5. 2151   8.0500   NaN        S  \n",
       "13      5            347082  31.2750   NaN        S  \n",
       "14      0            350406   7.8542   NaN        S  \n",
       "15      0            248706  16.0000   NaN        S  \n",
       "16      1            382652  29.1250   NaN        Q  \n",
       "17      0            244373  13.0000   NaN        S  \n",
       "18      0            345763  18.0000   NaN        S  \n",
       "19      0              2649   7.2250   NaN        C  "
      ]
     },
     "execution_count": 2,
     "metadata": {},
     "output_type": "execute_result"
    }
   ],
   "source": [
    "train = pd.read_csv(open_csvfile('data\\\\train.csv'))\n",
    "train.head(20)"
   ]
  },
  {
   "cell_type": "markdown",
   "id": "9f377a58",
   "metadata": {},
   "source": [
    "# 2. Data cleaning"
   ]
  },
  {
   "cell_type": "markdown",
   "id": "71835a8e",
   "metadata": {},
   "source": [
    "Let's check for some missing values - 'Age' and 'Cabine' have a lot missing values #notcool"
   ]
  },
  {
   "cell_type": "code",
   "execution_count": 3,
   "id": "f9950188",
   "metadata": {},
   "outputs": [
    {
     "data": {
      "text/plain": [
       "PassengerId      0\n",
       "Survived         0\n",
       "Pclass           0\n",
       "Name             0\n",
       "Sex              0\n",
       "Age            177\n",
       "SibSp            0\n",
       "Parch            0\n",
       "Ticket           0\n",
       "Fare             0\n",
       "Cabin          687\n",
       "Embarked         2\n",
       "dtype: int64"
      ]
     },
     "execution_count": 3,
     "metadata": {},
     "output_type": "execute_result"
    }
   ],
   "source": [
    "train.isnull().sum()"
   ]
  },
  {
   "cell_type": "code",
   "execution_count": 4,
   "id": "0fa8a28b",
   "metadata": {},
   "outputs": [
    {
     "name": "stdout",
     "output_type": "stream",
     "text": [
      "<class 'pandas.core.frame.DataFrame'>\n",
      "RangeIndex: 891 entries, 0 to 890\n",
      "Data columns (total 12 columns):\n",
      " #   Column       Non-Null Count  Dtype  \n",
      "---  ------       --------------  -----  \n",
      " 0   PassengerId  891 non-null    int64  \n",
      " 1   Survived     891 non-null    int64  \n",
      " 2   Pclass       891 non-null    int64  \n",
      " 3   Name         891 non-null    object \n",
      " 4   Sex          891 non-null    object \n",
      " 5   Age          714 non-null    float64\n",
      " 6   SibSp        891 non-null    int64  \n",
      " 7   Parch        891 non-null    int64  \n",
      " 8   Ticket       891 non-null    object \n",
      " 9   Fare         891 non-null    float64\n",
      " 10  Cabin        204 non-null    object \n",
      " 11  Embarked     889 non-null    object \n",
      "dtypes: float64(2), int64(5), object(5)\n",
      "memory usage: 83.7+ KB\n"
     ]
    }
   ],
   "source": [
    "train.info()"
   ]
  },
  {
   "cell_type": "markdown",
   "id": "0d80dcec",
   "metadata": {},
   "source": [
    "The feature 'ticket' is not very helpfull and doesnt add any value to our analysis. Let's drop them out for a clear dataset."
   ]
  },
  {
   "cell_type": "code",
   "execution_count": 5,
   "id": "b5df07cf",
   "metadata": {},
   "outputs": [],
   "source": [
    "train = train.drop('Ticket', axis = 1)"
   ]
  },
  {
   "cell_type": "code",
   "execution_count": 6,
   "id": "8e1a02de",
   "metadata": {},
   "outputs": [
    {
     "data": {
      "text/html": [
       "<div>\n",
       "<style scoped>\n",
       "    .dataframe tbody tr th:only-of-type {\n",
       "        vertical-align: middle;\n",
       "    }\n",
       "\n",
       "    .dataframe tbody tr th {\n",
       "        vertical-align: top;\n",
       "    }\n",
       "\n",
       "    .dataframe thead th {\n",
       "        text-align: right;\n",
       "    }\n",
       "</style>\n",
       "<table border=\"1\" class=\"dataframe\">\n",
       "  <thead>\n",
       "    <tr style=\"text-align: right;\">\n",
       "      <th></th>\n",
       "      <th>PassengerId</th>\n",
       "      <th>Survived</th>\n",
       "      <th>Pclass</th>\n",
       "      <th>Name</th>\n",
       "      <th>Sex</th>\n",
       "      <th>Age</th>\n",
       "      <th>SibSp</th>\n",
       "      <th>Parch</th>\n",
       "      <th>Fare</th>\n",
       "      <th>Cabin</th>\n",
       "      <th>Embarked</th>\n",
       "    </tr>\n",
       "  </thead>\n",
       "  <tbody>\n",
       "    <tr>\n",
       "      <th>0</th>\n",
       "      <td>1</td>\n",
       "      <td>0</td>\n",
       "      <td>3</td>\n",
       "      <td>Braund, Mr. Owen Harris</td>\n",
       "      <td>male</td>\n",
       "      <td>22.0</td>\n",
       "      <td>1</td>\n",
       "      <td>0</td>\n",
       "      <td>7.2500</td>\n",
       "      <td>NaN</td>\n",
       "      <td>S</td>\n",
       "    </tr>\n",
       "    <tr>\n",
       "      <th>1</th>\n",
       "      <td>2</td>\n",
       "      <td>1</td>\n",
       "      <td>1</td>\n",
       "      <td>Cumings, Mrs. John Bradley (Florence Briggs Th...</td>\n",
       "      <td>female</td>\n",
       "      <td>38.0</td>\n",
       "      <td>1</td>\n",
       "      <td>0</td>\n",
       "      <td>71.2833</td>\n",
       "      <td>C85</td>\n",
       "      <td>C</td>\n",
       "    </tr>\n",
       "    <tr>\n",
       "      <th>2</th>\n",
       "      <td>3</td>\n",
       "      <td>1</td>\n",
       "      <td>3</td>\n",
       "      <td>Heikkinen, Miss. Laina</td>\n",
       "      <td>female</td>\n",
       "      <td>26.0</td>\n",
       "      <td>0</td>\n",
       "      <td>0</td>\n",
       "      <td>7.9250</td>\n",
       "      <td>NaN</td>\n",
       "      <td>S</td>\n",
       "    </tr>\n",
       "    <tr>\n",
       "      <th>3</th>\n",
       "      <td>4</td>\n",
       "      <td>1</td>\n",
       "      <td>1</td>\n",
       "      <td>Futrelle, Mrs. Jacques Heath (Lily May Peel)</td>\n",
       "      <td>female</td>\n",
       "      <td>35.0</td>\n",
       "      <td>1</td>\n",
       "      <td>0</td>\n",
       "      <td>53.1000</td>\n",
       "      <td>C123</td>\n",
       "      <td>S</td>\n",
       "    </tr>\n",
       "    <tr>\n",
       "      <th>4</th>\n",
       "      <td>5</td>\n",
       "      <td>0</td>\n",
       "      <td>3</td>\n",
       "      <td>Allen, Mr. William Henry</td>\n",
       "      <td>male</td>\n",
       "      <td>35.0</td>\n",
       "      <td>0</td>\n",
       "      <td>0</td>\n",
       "      <td>8.0500</td>\n",
       "      <td>NaN</td>\n",
       "      <td>S</td>\n",
       "    </tr>\n",
       "    <tr>\n",
       "      <th>...</th>\n",
       "      <td>...</td>\n",
       "      <td>...</td>\n",
       "      <td>...</td>\n",
       "      <td>...</td>\n",
       "      <td>...</td>\n",
       "      <td>...</td>\n",
       "      <td>...</td>\n",
       "      <td>...</td>\n",
       "      <td>...</td>\n",
       "      <td>...</td>\n",
       "      <td>...</td>\n",
       "    </tr>\n",
       "    <tr>\n",
       "      <th>886</th>\n",
       "      <td>887</td>\n",
       "      <td>0</td>\n",
       "      <td>2</td>\n",
       "      <td>Montvila, Rev. Juozas</td>\n",
       "      <td>male</td>\n",
       "      <td>27.0</td>\n",
       "      <td>0</td>\n",
       "      <td>0</td>\n",
       "      <td>13.0000</td>\n",
       "      <td>NaN</td>\n",
       "      <td>S</td>\n",
       "    </tr>\n",
       "    <tr>\n",
       "      <th>887</th>\n",
       "      <td>888</td>\n",
       "      <td>1</td>\n",
       "      <td>1</td>\n",
       "      <td>Graham, Miss. Margaret Edith</td>\n",
       "      <td>female</td>\n",
       "      <td>19.0</td>\n",
       "      <td>0</td>\n",
       "      <td>0</td>\n",
       "      <td>30.0000</td>\n",
       "      <td>B42</td>\n",
       "      <td>S</td>\n",
       "    </tr>\n",
       "    <tr>\n",
       "      <th>888</th>\n",
       "      <td>889</td>\n",
       "      <td>0</td>\n",
       "      <td>3</td>\n",
       "      <td>Johnston, Miss. Catherine Helen \"Carrie\"</td>\n",
       "      <td>female</td>\n",
       "      <td>NaN</td>\n",
       "      <td>1</td>\n",
       "      <td>2</td>\n",
       "      <td>23.4500</td>\n",
       "      <td>NaN</td>\n",
       "      <td>S</td>\n",
       "    </tr>\n",
       "    <tr>\n",
       "      <th>889</th>\n",
       "      <td>890</td>\n",
       "      <td>1</td>\n",
       "      <td>1</td>\n",
       "      <td>Behr, Mr. Karl Howell</td>\n",
       "      <td>male</td>\n",
       "      <td>26.0</td>\n",
       "      <td>0</td>\n",
       "      <td>0</td>\n",
       "      <td>30.0000</td>\n",
       "      <td>C148</td>\n",
       "      <td>C</td>\n",
       "    </tr>\n",
       "    <tr>\n",
       "      <th>890</th>\n",
       "      <td>891</td>\n",
       "      <td>0</td>\n",
       "      <td>3</td>\n",
       "      <td>Dooley, Mr. Patrick</td>\n",
       "      <td>male</td>\n",
       "      <td>32.0</td>\n",
       "      <td>0</td>\n",
       "      <td>0</td>\n",
       "      <td>7.7500</td>\n",
       "      <td>NaN</td>\n",
       "      <td>Q</td>\n",
       "    </tr>\n",
       "  </tbody>\n",
       "</table>\n",
       "<p>891 rows × 11 columns</p>\n",
       "</div>"
      ],
      "text/plain": [
       "     PassengerId  Survived  Pclass  \\\n",
       "0              1         0       3   \n",
       "1              2         1       1   \n",
       "2              3         1       3   \n",
       "3              4         1       1   \n",
       "4              5         0       3   \n",
       "..           ...       ...     ...   \n",
       "886          887         0       2   \n",
       "887          888         1       1   \n",
       "888          889         0       3   \n",
       "889          890         1       1   \n",
       "890          891         0       3   \n",
       "\n",
       "                                                  Name     Sex   Age  SibSp  \\\n",
       "0                              Braund, Mr. Owen Harris    male  22.0      1   \n",
       "1    Cumings, Mrs. John Bradley (Florence Briggs Th...  female  38.0      1   \n",
       "2                               Heikkinen, Miss. Laina  female  26.0      0   \n",
       "3         Futrelle, Mrs. Jacques Heath (Lily May Peel)  female  35.0      1   \n",
       "4                             Allen, Mr. William Henry    male  35.0      0   \n",
       "..                                                 ...     ...   ...    ...   \n",
       "886                              Montvila, Rev. Juozas    male  27.0      0   \n",
       "887                       Graham, Miss. Margaret Edith  female  19.0      0   \n",
       "888           Johnston, Miss. Catherine Helen \"Carrie\"  female   NaN      1   \n",
       "889                              Behr, Mr. Karl Howell    male  26.0      0   \n",
       "890                                Dooley, Mr. Patrick    male  32.0      0   \n",
       "\n",
       "     Parch     Fare Cabin Embarked  \n",
       "0        0   7.2500   NaN        S  \n",
       "1        0  71.2833   C85        C  \n",
       "2        0   7.9250   NaN        S  \n",
       "3        0  53.1000  C123        S  \n",
       "4        0   8.0500   NaN        S  \n",
       "..     ...      ...   ...      ...  \n",
       "886      0  13.0000   NaN        S  \n",
       "887      0  30.0000   B42        S  \n",
       "888      2  23.4500   NaN        S  \n",
       "889      0  30.0000  C148        C  \n",
       "890      0   7.7500   NaN        Q  \n",
       "\n",
       "[891 rows x 11 columns]"
      ]
     },
     "execution_count": 6,
     "metadata": {},
     "output_type": "execute_result"
    }
   ],
   "source": [
    "train"
   ]
  },
  {
   "cell_type": "markdown",
   "id": "4eb545f9",
   "metadata": {},
   "source": [
    "The feature 'cabine' doesn't seem very helpful - however when you analyse the cabine feature, you find a new feature! *tadaaaa* the cabine contains the deck letter, which can be helpful in our analysis.\n",
    "So, let us split the letter from the room number and keep only the deck"
   ]
  },
  {
   "cell_type": "code",
   "execution_count": 7,
   "id": "c0151e9f",
   "metadata": {},
   "outputs": [
    {
     "data": {
      "text/plain": [
       "C    59\n",
       "B    47\n",
       "D    33\n",
       "E    32\n",
       "A    15\n",
       "F    13\n",
       "G     4\n",
       "T     1\n",
       "Name: Deck, dtype: int64"
      ]
     },
     "execution_count": 7,
     "metadata": {},
     "output_type": "execute_result"
    }
   ],
   "source": [
    "# split Cabine into 'Deck' and 'Room'\n",
    "train['Deck'] = train.Cabin.str[:1]\n",
    "del train['Cabin']\n",
    "\n",
    "train.Deck.value_counts()"
   ]
  },
  {
   "cell_type": "code",
   "execution_count": 8,
   "id": "087477f0",
   "metadata": {},
   "outputs": [],
   "source": [
    "#incorrect data - Deck T doesn't exist - exclude value from dataset\n",
    "train = train.loc[(train['Deck']) != 'T']"
   ]
  },
  {
   "cell_type": "markdown",
   "id": "612e4c31",
   "metadata": {},
   "source": [
    "We've still a lot of missing values in our dataset ('Deck') - maybe we can preditct the feature 'deck' with the other features? Use Mean, Median or Mode? 'Age' has missing values as well. However, maybe we can clean this with Mean, Median or Mode. We will simulate this later..."
   ]
  },
  {
   "cell_type": "code",
   "execution_count": 9,
   "id": "6c9f81e4",
   "metadata": {},
   "outputs": [],
   "source": [
    "train = train.dropna(subset = ['Embarked'])"
   ]
  },
  {
   "cell_type": "code",
   "execution_count": 10,
   "id": "fbf41129",
   "metadata": {},
   "outputs": [
    {
     "data": {
      "text/plain": [
       "PassengerId      0\n",
       "Survived         0\n",
       "Pclass           0\n",
       "Name             0\n",
       "Sex              0\n",
       "Age            177\n",
       "SibSp            0\n",
       "Parch            0\n",
       "Fare             0\n",
       "Embarked         0\n",
       "Deck           687\n",
       "dtype: int64"
      ]
     },
     "execution_count": 10,
     "metadata": {},
     "output_type": "execute_result"
    }
   ],
   "source": [
    "train.isna().sum()"
   ]
  },
  {
   "cell_type": "markdown",
   "id": "cadac28c",
   "metadata": {},
   "source": [
    "Now, after cleaning the dataset, we decode some features - for a better understanding (for those who read this and for myself *smile*)"
   ]
  },
  {
   "cell_type": "code",
   "execution_count": 11,
   "id": "24e1e7e9",
   "metadata": {},
   "outputs": [],
   "source": [
    "# Define dictionary for the location of embark\n",
    "dict1 = {\n",
    "    'S': 'Southampton',\n",
    "    'C': 'Cherbourg',\n",
    "    'Q': 'Queenstown'\n",
    "}\n",
    "\n",
    "train.Embarked = train.Embarked.map(dict1)\n",
    "\n",
    "train.Survived.replace({0: 'No', 1: 'Yes'}, inplace = True)\n",
    "train.Sex.replace({'male': 'Male', 'female': 'Female'}, inplace = True)"
   ]
  },
  {
   "cell_type": "markdown",
   "id": "21df8f74",
   "metadata": {},
   "source": [
    "So, let's take a look to names...they have a title inside! Maybe we have so dependencies between surviving and title? Let's extract them!"
   ]
  },
  {
   "cell_type": "code",
   "execution_count": 12,
   "id": "5eb05c06",
   "metadata": {},
   "outputs": [
    {
     "name": "stdout",
     "output_type": "stream",
     "text": [
      "0                              Braund, Mr. Owen Harris\n",
      "1    Cumings, Mrs. John Bradley (Florence Briggs Th...\n",
      "2                               Heikkinen, Miss. Laina\n",
      "3         Futrelle, Mrs. Jacques Heath (Lily May Peel)\n",
      "4                             Allen, Mr. William Henry\n",
      "Name: Name, dtype: object\n"
     ]
    },
    {
     "data": {
      "text/plain": [
       "Mr              516\n",
       "Miss            181\n",
       "Mrs             124\n",
       "Master           40\n",
       "Dr                7\n",
       "Rev               6\n",
       "Mlle              2\n",
       "Major             2\n",
       "Col               2\n",
       "the Countess      1\n",
       "Capt              1\n",
       "Ms                1\n",
       "Sir               1\n",
       "Lady              1\n",
       "Mme               1\n",
       "Don               1\n",
       "Jonkheer          1\n",
       "Name: Title, dtype: int64"
      ]
     },
     "execution_count": 12,
     "metadata": {},
     "output_type": "execute_result"
    }
   ],
   "source": [
    "# Just have a look how we should extract them...\n",
    "print(train['Name'].head(5))\n",
    "\n",
    "# Comma and dot can help us to split the elements of the name\n",
    "train['Title'] = train['Name'].str.split(', ', expand=True)[1].str.split('.', expand=True)[0]\n",
    "\n",
    "# Now, summarised...\n",
    "train['Title'].value_counts()"
   ]
  },
  {
   "cell_type": "code",
   "execution_count": 13,
   "id": "ea9a30d4",
   "metadata": {},
   "outputs": [],
   "source": [
    "# PassangerId isn't very helpfull for our analysis, so we scrup them away (just like the name)\n",
    "train.drop(['PassengerId'], axis = 1, inplace = True)\n",
    "train.drop(['Name'], axis = 1, inplace = True)"
   ]
  },
  {
   "cell_type": "markdown",
   "id": "4c2fc037",
   "metadata": {},
   "source": [
    "# 3. Data Analysis"
   ]
  },
  {
   "cell_type": "code",
   "execution_count": 14,
   "id": "5e16187e",
   "metadata": {},
   "outputs": [
    {
     "name": "stdout",
     "output_type": "stream",
     "text": [
      "The shape is: (888, 10)\n",
      "\n",
      "<class 'pandas.core.frame.DataFrame'>\n",
      "Int64Index: 888 entries, 0 to 890\n",
      "Data columns (total 10 columns):\n",
      " #   Column    Non-Null Count  Dtype  \n",
      "---  ------    --------------  -----  \n",
      " 0   Survived  888 non-null    object \n",
      " 1   Pclass    888 non-null    int64  \n",
      " 2   Sex       888 non-null    object \n",
      " 3   Age       711 non-null    float64\n",
      " 4   SibSp     888 non-null    int64  \n",
      " 5   Parch     888 non-null    int64  \n",
      " 6   Fare      888 non-null    float64\n",
      " 7   Embarked  888 non-null    object \n",
      " 8   Deck      201 non-null    object \n",
      " 9   Title     888 non-null    object \n",
      "dtypes: float64(2), int64(3), object(5)\n",
      "memory usage: 76.3+ KB\n",
      "None\n",
      "\n",
      "           Pclass         Age       SibSp       Parch        Fare\n",
      "count  888.000000  711.000000  888.000000  888.000000  888.000000\n",
      "mean     2.313063   29.620492    0.524775    0.382883   32.092848\n",
      "std      0.834007   14.491662    1.104186    0.807113   49.725379\n",
      "min      1.000000    0.420000    0.000000    0.000000    0.000000\n",
      "25%      2.000000   20.000000    0.000000    0.000000    7.895800\n",
      "50%      3.000000   28.000000    0.000000    0.000000   14.454200\n",
      "75%      3.000000   38.000000    1.000000    0.000000   30.771850\n",
      "max      3.000000   80.000000    8.000000    6.000000  512.329200\n",
      "\n",
      "Let us go trough our features/labels: \n",
      "Index(['Survived', 'Pclass', 'Sex', 'Age', 'SibSp', 'Parch', 'Fare',\n",
      "       'Embarked', 'Deck', 'Title'],\n",
      "      dtype='object')\n"
     ]
    }
   ],
   "source": [
    "print('The shape is:',train.shape)\n",
    "print('')\n",
    "print(train.info())\n",
    "print('')\n",
    "print(train.describe())\n",
    "print('')\n",
    "print('Let us go trough our features/labels: ')\n",
    "print(train.columns)"
   ]
  },
  {
   "cell_type": "markdown",
   "id": "a2cef4d5",
   "metadata": {},
   "source": [
    "## 3.1 Survived"
   ]
  },
  {
   "cell_type": "code",
   "execution_count": 15,
   "id": "5a12d7aa",
   "metadata": {},
   "outputs": [
    {
     "data": {
      "image/png": "[encoded data removed]",
      "text/plain": [
       "<Figure size 720x432 with 1 Axes>"
      ]
     },
     "metadata": {
      "needs_background": "light"
     },
     "output_type": "display_data"
    },
    {
     "name": "stdout",
     "output_type": "stream",
     "text": [
      "No     0.617117\n",
      "Yes    0.382883\n",
      "Name: Survived, dtype: float64\n"
     ]
    }
   ],
   "source": [
    "# Visualize 'Survived' with a countplot\n",
    "sns.set_theme(style = 'dark')\n",
    "sns.set(font_scale = 2)\n",
    "ax = plt.subplots(figsize= [10, 6])\n",
    "\n",
    "ax = sns.countplot(x='Survived', data = train, palette = {\"Yes\": 'seagreen', \"No\": \"firebrick\"})\n",
    "ax.bar_label(ax.containers[0])\n",
    "ax.set(ylabel = None, yticklabels = [])\n",
    "\n",
    "\n",
    "plt.show()\n",
    "\n",
    "# Print proportions\n",
    "print(train['Survived'].value_counts(normalize = True))"
   ]
  },
  {
   "cell_type": "markdown",
   "id": "6863532a",
   "metadata": {},
   "source": [
    "## 3.2 Pclass"
   ]
  },
  {
   "cell_type": "code",
   "execution_count": 16,
   "id": "d941dc01",
   "metadata": {},
   "outputs": [
    {
     "data": {
      "image/png": "[encoded data removed]",
      "text/plain": [
       "<Figure size 1843.08x576 with 1 Axes>"
      ]
     },
     "metadata": {},
     "output_type": "display_data"
    },
    {
     "data": {
      "text/plain": [
       "Pclass  Survived\n",
       "1       Yes         0.629108\n",
       "        No          0.370892\n",
       "2       No          0.527174\n",
       "        Yes         0.472826\n",
       "3       No          0.757637\n",
       "        Yes         0.242363\n",
       "Name: Survived, dtype: float64"
      ]
     },
     "execution_count": 16,
     "metadata": {},
     "output_type": "execute_result"
    }
   ],
   "source": [
    "# Visalize with a catplot\n",
    "sns.set_theme(style = 'dark')\n",
    "sns.set(font_scale = 2)\n",
    "\n",
    "ax = sns.catplot(data = train, y = 'Pclass',kind = 'count', hue = 'Survived', height = 8, aspect = 3, palette = {\"Yes\": 'seagreen', \"No\": \"firebrick\"})\n",
    "ax.set(ylabel = 'Class')\n",
    "ax.set(xlabel = None)\n",
    "ax.set(xticklabels=[])\n",
    "for ax in ax.axes.flat:\n",
    "    ax.bar_label(ax.containers[0], color = 'firebrick')\n",
    "    ax.bar_label(ax.containers[1], color = 'seagreen')\n",
    "\n",
    "plt.show()\n",
    "\n",
    "# Surviving rate of each class\n",
    "train['Survived'].groupby(train['Pclass']).value_counts(normalize = True)"
   ]
  },
  {
   "cell_type": "markdown",
   "id": "66c2d6f6",
   "metadata": {},
   "source": [
    "As you can see... the first class had the best surviving rate... just in case you book a boat trip soon."
   ]
  },
  {
   "cell_type": "markdown",
   "id": "073072e3",
   "metadata": {},
   "source": [
    "## 3.3 Age"
   ]
  },
  {
   "cell_type": "markdown",
   "id": "24f912de",
   "metadata": {},
   "source": [
    "Remeber we have missing values in this feature!"
   ]
  },
  {
   "cell_type": "code",
   "execution_count": 17,
   "id": "e563ffdd",
   "metadata": {},
   "outputs": [
    {
     "name": "stdout",
     "output_type": "stream",
     "text": [
      "Number of missing values:\n",
      "177\n"
     ]
    }
   ],
   "source": [
    "print('Number of missing values:')\n",
    "print(train[\"Age\"].isnull().sum())"
   ]
  },
  {
   "cell_type": "code",
   "execution_count": 18,
   "id": "d5b8ed10",
   "metadata": {},
   "outputs": [
    {
     "data": {
      "image/png": "[encoded data removed]",
      "text/plain": [
       "<Figure size 720x432 with 1 Axes>"
      ]
     },
     "metadata": {},
     "output_type": "display_data"
    }
   ],
   "source": [
    "# However, let's have a look into distribution\n",
    "sns.set_theme(style = 'dark')\n",
    "sns.set(font_scale = 2)\n",
    "ax = plt.subplots(figsize= [10, 6])\n",
    "\n",
    "# Survived by age\n",
    "ax = sns.violinplot(data = train, y = 'Age', x = 'Survived', inner = 'quart', palette = {\"Yes\": 'seagreen', \"No\": \"firebrick\"})\n",
    " #             split = True, inner = 'quart', linewidth = 1, palette = {\"Male\": '#14AAF5', \"Female\": \"#E05194\"})"
   ]
  },
  {
   "cell_type": "markdown",
   "id": "8e4cc7f8",
   "metadata": {},
   "source": [
    "# 3.4 Sex"
   ]
  },
  {
   "cell_type": "code",
   "execution_count": 19,
   "id": "80c832e8",
   "metadata": {},
   "outputs": [
    {
     "data": {
      "image/png": "[encoded data removed]",
      "text/plain": [
       "<Figure size 720x432 with 1 Axes>"
      ]
     },
     "metadata": {},
     "output_type": "display_data"
    },
    {
     "data": {
      "image/png": "[encoded data removed]",
      "text/plain": [
       "<Figure size 720x432 with 1 Axes>"
      ]
     },
     "metadata": {},
     "output_type": "display_data"
    },
    {
     "data": {
      "text/plain": [
       "Sex     Survived\n",
       "Female  Yes         0.740385\n",
       "        No          0.259615\n",
       "Male    No          0.810764\n",
       "        Yes         0.189236\n",
       "Name: Survived, dtype: float64"
      ]
     },
     "execution_count": 19,
     "metadata": {},
     "output_type": "execute_result"
    }
   ],
   "source": [
    "# Visualize quantity male/female\n",
    "sns.set_theme(style = 'dark')\n",
    "sns.set(font_scale = 2)\n",
    "ax = plt.subplots(figsize= [10, 6])\n",
    "\n",
    "ax = sns.countplot(data= train, x = 'Sex', palette = [\"#14AAF5\", \"#E05194\"])\n",
    "ax.bar_label(ax.containers[0])\n",
    "plt.title('Qty of Passengers')\n",
    "ax.set(ylabel = None)\n",
    "ax.axes.yaxis.set_ticklabels([])\n",
    "\n",
    "# Visualize with coutplot\n",
    "ax = plt.subplots(figsize= [10, 6])\n",
    "ax = sns.countplot(data= train, x = 'Sex', hue = 'Survived', palette = {\"Yes\": 'seagreen', \"No\": \"firebrick\"})\n",
    "ax.bar_label(ax.containers[0], color = 'firebrick')\n",
    "ax.bar_label(ax.containers[1], color = 'seagreen')\n",
    "plt.title('Qty of Passengers')\n",
    "ax.set(ylabel = None)\n",
    "ax.axes.yaxis.set_ticklabels([])\n",
    "\n",
    "plt.show()\n",
    "\n",
    "# Surviving rate by sex\n",
    "train['Survived'].groupby(train['Sex']).value_counts(normalize = True)"
   ]
  },
  {
   "cell_type": "markdown",
   "id": "4b0a951b",
   "metadata": {},
   "source": [
    "Oh... there's a relationship between sex and surviving. Not really suprising... we all have seen the movie Titanic.....\"Jaaaaaaaack.....\""
   ]
  },
  {
   "cell_type": "markdown",
   "id": "0cc04c8c",
   "metadata": {},
   "source": [
    "# 3.5 Sibling / Spouse - Parent / Children"
   ]
  },
  {
   "cell_type": "code",
   "execution_count": 20,
   "id": "30efa454",
   "metadata": {},
   "outputs": [
    {
     "name": "stdout",
     "output_type": "stream",
     "text": [
      "0    0\n",
      "1    0\n",
      "2    0\n",
      "3    0\n",
      "4    0\n",
      "5    0\n",
      "6    0\n",
      "7    1\n",
      "8    2\n",
      "9    0\n",
      "Name: Parch, dtype: int64\n",
      "0    1\n",
      "1    1\n",
      "2    0\n",
      "3    1\n",
      "4    0\n",
      "5    0\n",
      "6    0\n",
      "7    3\n",
      "8    0\n",
      "9    1\n",
      "Name: SibSp, dtype: int64\n"
     ]
    }
   ],
   "source": [
    "print(train['Parch'].head(10))\n",
    "print(train['SibSp'].head(10))"
   ]
  },
  {
   "cell_type": "markdown",
   "id": "a8ef5962",
   "metadata": {},
   "source": [
    "'SibSp' = Sibling or Spouse number\n",
    "'Parch' = Parent or Children number\n",
    "\n",
    "Maybe if you have a bigger family, your surviving rate would increase? Let's check this relationship"
   ]
  },
  {
   "cell_type": "code",
   "execution_count": 21,
   "id": "8bfa4010",
   "metadata": {},
   "outputs": [
    {
     "name": "stdout",
     "output_type": "stream",
     "text": [
      "Count Values of Sibling or Spouse:\n",
      "0    605\n",
      "1    209\n",
      "2     28\n",
      "4     18\n",
      "3     16\n",
      "8      7\n",
      "5      5\n",
      "Name: SibSp, dtype: int64\n",
      "\n",
      "Count Values of Parent or Children:\n",
      "0    675\n",
      "1    118\n",
      "2     80\n",
      "5      5\n",
      "3      5\n",
      "4      4\n",
      "6      1\n",
      "Name: Parch, dtype: int64\n",
      "\n",
      "Count Values of Family Size:\n",
      "0     534\n",
      "1     161\n",
      "2     102\n",
      "3      29\n",
      "5      22\n",
      "4      15\n",
      "6      12\n",
      "10      7\n",
      "7       6\n",
      "Name: family_size, dtype: int64\n",
      "family_size  Survived\n",
      "0            No          0.698502\n",
      "             Yes         0.301498\n",
      "1            Yes         0.552795\n",
      "             No          0.447205\n",
      "2            Yes         0.578431\n",
      "             No          0.421569\n",
      "3            Yes         0.724138\n",
      "             No          0.275862\n",
      "4            No          0.800000\n",
      "             Yes         0.200000\n",
      "5            No          0.863636\n",
      "             Yes         0.136364\n",
      "6            No          0.666667\n",
      "             Yes         0.333333\n",
      "7            No          1.000000\n",
      "10           No          1.000000\n",
      "Name: Survived, dtype: float64\n"
     ]
    }
   ],
   "source": [
    "print('Count Values of Sibling or Spouse:')\n",
    "print(train[\"SibSp\"].value_counts())\n",
    "\n",
    "print('')\n",
    "print('Count Values of Parent or Children:')\n",
    "print(train[\"Parch\"].value_counts())\n",
    "\n",
    "train[\"family_size\"] = train[\"SibSp\"] + train[\"Parch\"]\n",
    "\n",
    "print('')\n",
    "print('Count Values of Family Size:')\n",
    "print(train[\"family_size\"].value_counts())\n",
    "\n",
    "# Proportion of people survived/not survived for each class\n",
    "print(train['Survived'].groupby(train[\"family_size\"]).value_counts(normalize = True))"
   ]
  },
  {
   "cell_type": "markdown",
   "id": "745305c2",
   "metadata": {},
   "source": [
    "The family size is important when you wanted to survive on the titanc. Let's organize them to groups during the data cleaning process"
   ]
  },
  {
   "cell_type": "markdown",
   "id": "27910e05",
   "metadata": {},
   "source": [
    "## 3.6 Fare"
   ]
  },
  {
   "cell_type": "code",
   "execution_count": 22,
   "id": "98a85456",
   "metadata": {},
   "outputs": [
    {
     "data": {
      "image/png": "[encoded data removed]",
      "text/plain": [
       "<Figure size 1080x576 with 1 Axes>"
      ]
     },
     "metadata": {},
     "output_type": "display_data"
    },
    {
     "name": "stdout",
     "output_type": "stream",
     "text": [
      "(-0.512, 170.776]     868\n",
      "(170.776, 341.553]     17\n",
      "(341.553, 512.329]      3\n",
      "Name: Fare, dtype: int64\n",
      "\n",
      "Fare                Survived\n",
      "(-0.512, 170.776]   No          0.624424\n",
      "                    Yes         0.375576\n",
      "(170.776, 341.553]  Yes         0.647059\n",
      "                    No          0.352941\n",
      "(341.553, 512.329]  Yes         1.000000\n",
      "Name: Survived, dtype: float64\n"
     ]
    }
   ],
   "source": [
    "# Plot the histogram\n",
    "sns.set_theme(style = 'dark')\n",
    "sns.set(font_scale = 2)\n",
    "plt.figure(figsize=(15,8))\n",
    "\n",
    "sns.histplot(train[\"Fare\"])\n",
    "plt.show()\n",
    "\n",
    "# Print 3 bins (for each Pclass)\n",
    "print(pd.cut(train['Fare'], 3).value_counts())\n",
    "print('')\n",
    "\n",
    "# Print (binned) fare by surviving rate\n",
    "print(train['Survived'].groupby(pd.cut(train['Fare'], 3)).value_counts(normalize = True))"
   ]
  },
  {
   "cell_type": "markdown",
   "id": "b2c39f4a",
   "metadata": {},
   "source": [
    "## 3.7 Deck"
   ]
  },
  {
   "cell_type": "markdown",
   "id": "5b344c2f",
   "metadata": {},
   "source": [
    "Ufff... the feature deck has many NaN Values"
   ]
  },
  {
   "cell_type": "code",
   "execution_count": 23,
   "id": "6fc82bf3",
   "metadata": {},
   "outputs": [
    {
     "name": "stdout",
     "output_type": "stream",
     "text": [
      "Feature value have 687 NaN values.\n",
      "\n",
      "NaN    687\n",
      "C       59\n",
      "B       45\n",
      "D       33\n",
      "E       32\n",
      "A       15\n",
      "F       13\n",
      "G        4\n",
      "Name: Deck, dtype: int64\n"
     ]
    }
   ],
   "source": [
    "print('Feature value have', train['Deck'].isnull().sum(), 'NaN values.')\n",
    "print('')\n",
    "print(train[\"Deck\"].value_counts(dropna = False))"
   ]
  },
  {
   "cell_type": "code",
   "execution_count": 24,
   "id": "05152d48",
   "metadata": {},
   "outputs": [
    {
     "name": "stdout",
     "output_type": "stream",
     "text": [
      "Deck  Survived\n",
      "A     No          0.533333\n",
      "      Yes         0.466667\n",
      "B     Yes         0.733333\n",
      "      No          0.266667\n",
      "C     Yes         0.593220\n",
      "      No          0.406780\n",
      "D     Yes         0.757576\n",
      "      No          0.242424\n",
      "E     Yes         0.750000\n",
      "      No          0.250000\n",
      "F     Yes         0.615385\n",
      "      No          0.384615\n",
      "G     No          0.500000\n",
      "      Yes         0.500000\n",
      "NaN   No          0.700146\n",
      "      Yes         0.299854\n",
      "Name: Survived, dtype: float64\n"
     ]
    },
    {
     "data": {
      "text/html": [
       "<div>\n",
       "<style scoped>\n",
       "    .dataframe tbody tr th:only-of-type {\n",
       "        vertical-align: middle;\n",
       "    }\n",
       "\n",
       "    .dataframe tbody tr th {\n",
       "        vertical-align: top;\n",
       "    }\n",
       "\n",
       "    .dataframe thead th {\n",
       "        text-align: right;\n",
       "    }\n",
       "</style>\n",
       "<table border=\"1\" class=\"dataframe\">\n",
       "  <thead>\n",
       "    <tr style=\"text-align: right;\">\n",
       "      <th></th>\n",
       "      <th>Deck</th>\n",
       "      <th>Survived</th>\n",
       "      <th>Rate</th>\n",
       "    </tr>\n",
       "  </thead>\n",
       "  <tbody>\n",
       "    <tr>\n",
       "      <th>6</th>\n",
       "      <td>D</td>\n",
       "      <td>Yes</td>\n",
       "      <td>0.757576</td>\n",
       "    </tr>\n",
       "    <tr>\n",
       "      <th>8</th>\n",
       "      <td>E</td>\n",
       "      <td>Yes</td>\n",
       "      <td>0.750000</td>\n",
       "    </tr>\n",
       "    <tr>\n",
       "      <th>2</th>\n",
       "      <td>B</td>\n",
       "      <td>Yes</td>\n",
       "      <td>0.733333</td>\n",
       "    </tr>\n",
       "    <tr>\n",
       "      <th>10</th>\n",
       "      <td>F</td>\n",
       "      <td>Yes</td>\n",
       "      <td>0.615385</td>\n",
       "    </tr>\n",
       "    <tr>\n",
       "      <th>4</th>\n",
       "      <td>C</td>\n",
       "      <td>Yes</td>\n",
       "      <td>0.593220</td>\n",
       "    </tr>\n",
       "    <tr>\n",
       "      <th>13</th>\n",
       "      <td>G</td>\n",
       "      <td>Yes</td>\n",
       "      <td>0.500000</td>\n",
       "    </tr>\n",
       "    <tr>\n",
       "      <th>1</th>\n",
       "      <td>A</td>\n",
       "      <td>Yes</td>\n",
       "      <td>0.466667</td>\n",
       "    </tr>\n",
       "    <tr>\n",
       "      <th>15</th>\n",
       "      <td>NaN</td>\n",
       "      <td>Yes</td>\n",
       "      <td>0.299854</td>\n",
       "    </tr>\n",
       "  </tbody>\n",
       "</table>\n",
       "</div>"
      ],
      "text/plain": [
       "   Deck Survived      Rate\n",
       "6     D      Yes  0.757576\n",
       "8     E      Yes  0.750000\n",
       "2     B      Yes  0.733333\n",
       "10    F      Yes  0.615385\n",
       "4     C      Yes  0.593220\n",
       "13    G      Yes  0.500000\n",
       "1     A      Yes  0.466667\n",
       "15  NaN      Yes  0.299854"
      ]
     },
     "execution_count": 24,
     "metadata": {},
     "output_type": "execute_result"
    }
   ],
   "source": [
    "# Surviving rate by Deck\n",
    "print(train.groupby(\"Deck\", dropna = False)[\"Survived\"].value_counts(normalize = True))\n",
    "\n",
    "x = train.groupby(\"Deck\", dropna = False)[\"Survived\"].value_counts(normalize = True).to_frame()\n",
    "x.rename(columns = {'Survived': 'Rate'}, inplace = True)\n",
    "x.reset_index(inplace = True)\n",
    "x.loc[x['Survived'] == 'Yes'].sort_values(['Rate'], ascending = False)"
   ]
  },
  {
   "cell_type": "markdown",
   "id": "8c823fc8",
   "metadata": {},
   "source": [
    "## 3.8 Embarked"
   ]
  },
  {
   "cell_type": "code",
   "execution_count": 25,
   "id": "fecc39cb",
   "metadata": {},
   "outputs": [
    {
     "data": {
      "image/png": "[encoded data removed]",
      "text/plain": [
       "<Figure size 1080x576 with 1 Axes>"
      ]
     },
     "metadata": {},
     "output_type": "display_data"
    },
    {
     "name": "stdout",
     "output_type": "stream",
     "text": [
      "Southampton    643\n",
      "Cherbourg      168\n",
      "Queenstown      77\n",
      "Name: Embarked, dtype: int64\n",
      "\n",
      "Embarked     Survived\n",
      "Cherbourg    Yes         0.553571\n",
      "             No          0.446429\n",
      "Queenstown   No          0.610390\n",
      "             Yes         0.389610\n",
      "Southampton  No          0.662519\n",
      "             Yes         0.337481\n",
      "Name: Survived, dtype: float64\n"
     ]
    }
   ],
   "source": [
    "# Make a countplot\n",
    "sns.set_theme(style = 'dark')\n",
    "sns.set(font_scale = 2)\n",
    "plt.figure(figsize=(15,8))\n",
    "\n",
    "ax = sns.countplot(x=\"Embarked\", hue=\"Survived\", data=train, palette = {'Yes' : 'seagreen', 'No' : 'firebrick'})\n",
    "ax.bar_label(ax.containers[0], color = 'firebrick')\n",
    "ax.bar_label(ax.containers[1], color = 'seagreen')\n",
    "ax.set(ylabel = None, yticklabels = [])\n",
    "plt.show()\n",
    "\n",
    "# Print the value counts\n",
    "print(train[\"Embarked\"].value_counts())\n",
    "print('')\n",
    "\n",
    "#Surviving rate of embarked\n",
    "print(train[\"Survived\"].groupby(train[\"Embarked\"]).value_counts(normalize = True))"
   ]
  },
  {
   "cell_type": "markdown",
   "id": "c188a03d",
   "metadata": {},
   "source": [
    "For now, we had a dive into our dataset. We explorate some information which is important for our next chapter.... Data wrangling..."
   ]
  }
 ],
 "metadata": {
  "kernelspec": {
   "display_name": "Python 3 (ipykernel)",
   "language": "python",
   "name": "python3"
  },
  "language_info": {
   "codemirror_mode": {
    "name": "ipython",
    "version": 3
   },
   "file_extension": ".py",
   "mimetype": "text/x-python",
   "name": "python",
   "nbconvert_exporter": "python",
   "pygments_lexer": "ipython3",
   "version": "3.9.7"
  }
 },
 "nbformat": 4,
 "nbformat_minor": 5
}
