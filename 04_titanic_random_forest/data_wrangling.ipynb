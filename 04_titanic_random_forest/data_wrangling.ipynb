{
 "cells": [
  {
   "cell_type": "code",
   "execution_count": 30,
   "id": "6aefb91b",
   "metadata": {},
   "outputs": [],
   "source": [
    "# Loading package\n",
    "\n",
    "import os\n",
    "import numpy as np\n",
    "import pandas as pd\n",
    "import re\n",
    "import seaborn as sns\n",
    "import matplotlib.pyplot as plt\n",
    "\n",
    "from sklearn.experimental import enable_iterative_imputer\n",
    "from sklearn.impute import IterativeImputer\n",
    "from sklearn.preprocessing import LabelEncoder\n",
    "from sklearn.impute import KNNImputer\n",
    "\n",
    "from parameters import *"
   ]
  },
  {
   "cell_type": "markdown",
   "id": "294967b4",
   "metadata": {},
   "source": [
    "# 1. Load data"
   ]
  },
  {
   "cell_type": "markdown",
   "id": "af517db3",
   "metadata": {},
   "source": [
    "Let's load our train set and have a look in our data....uhhhh im so excited!"
   ]
  },
  {
   "cell_type": "code",
   "execution_count": 2,
   "id": "dd242cec",
   "metadata": {},
   "outputs": [
    {
     "data": {
      "text/html": [
       "<div>\n",
       "<style scoped>\n",
       "    .dataframe tbody tr th:only-of-type {\n",
       "        vertical-align: middle;\n",
       "    }\n",
       "\n",
       "    .dataframe tbody tr th {\n",
       "        vertical-align: top;\n",
       "    }\n",
       "\n",
       "    .dataframe thead th {\n",
       "        text-align: right;\n",
       "    }\n",
       "</style>\n",
       "<table border=\"1\" class=\"dataframe\">\n",
       "  <thead>\n",
       "    <tr style=\"text-align: right;\">\n",
       "      <th></th>\n",
       "      <th>PassengerId</th>\n",
       "      <th>Survived</th>\n",
       "      <th>Pclass</th>\n",
       "      <th>Name</th>\n",
       "      <th>Sex</th>\n",
       "      <th>Age</th>\n",
       "      <th>SibSp</th>\n",
       "      <th>Parch</th>\n",
       "      <th>Ticket</th>\n",
       "      <th>Fare</th>\n",
       "      <th>Cabin</th>\n",
       "      <th>Embarked</th>\n",
       "    </tr>\n",
       "  </thead>\n",
       "  <tbody>\n",
       "    <tr>\n",
       "      <th>0</th>\n",
       "      <td>1</td>\n",
       "      <td>0</td>\n",
       "      <td>3</td>\n",
       "      <td>Braund, Mr. Owen Harris</td>\n",
       "      <td>male</td>\n",
       "      <td>22.0</td>\n",
       "      <td>1</td>\n",
       "      <td>0</td>\n",
       "      <td>A/5 21171</td>\n",
       "      <td>7.2500</td>\n",
       "      <td>NaN</td>\n",
       "      <td>S</td>\n",
       "    </tr>\n",
       "    <tr>\n",
       "      <th>1</th>\n",
       "      <td>2</td>\n",
       "      <td>1</td>\n",
       "      <td>1</td>\n",
       "      <td>Cumings, Mrs. John Bradley (Florence Briggs Th...</td>\n",
       "      <td>female</td>\n",
       "      <td>38.0</td>\n",
       "      <td>1</td>\n",
       "      <td>0</td>\n",
       "      <td>PC 17599</td>\n",
       "      <td>71.2833</td>\n",
       "      <td>C85</td>\n",
       "      <td>C</td>\n",
       "    </tr>\n",
       "    <tr>\n",
       "      <th>2</th>\n",
       "      <td>3</td>\n",
       "      <td>1</td>\n",
       "      <td>3</td>\n",
       "      <td>Heikkinen, Miss. Laina</td>\n",
       "      <td>female</td>\n",
       "      <td>26.0</td>\n",
       "      <td>0</td>\n",
       "      <td>0</td>\n",
       "      <td>STON/O2. 3101282</td>\n",
       "      <td>7.9250</td>\n",
       "      <td>NaN</td>\n",
       "      <td>S</td>\n",
       "    </tr>\n",
       "    <tr>\n",
       "      <th>3</th>\n",
       "      <td>4</td>\n",
       "      <td>1</td>\n",
       "      <td>1</td>\n",
       "      <td>Futrelle, Mrs. Jacques Heath (Lily May Peel)</td>\n",
       "      <td>female</td>\n",
       "      <td>35.0</td>\n",
       "      <td>1</td>\n",
       "      <td>0</td>\n",
       "      <td>113803</td>\n",
       "      <td>53.1000</td>\n",
       "      <td>C123</td>\n",
       "      <td>S</td>\n",
       "    </tr>\n",
       "    <tr>\n",
       "      <th>4</th>\n",
       "      <td>5</td>\n",
       "      <td>0</td>\n",
       "      <td>3</td>\n",
       "      <td>Allen, Mr. William Henry</td>\n",
       "      <td>male</td>\n",
       "      <td>35.0</td>\n",
       "      <td>0</td>\n",
       "      <td>0</td>\n",
       "      <td>373450</td>\n",
       "      <td>8.0500</td>\n",
       "      <td>NaN</td>\n",
       "      <td>S</td>\n",
       "    </tr>\n",
       "    <tr>\n",
       "      <th>5</th>\n",
       "      <td>6</td>\n",
       "      <td>0</td>\n",
       "      <td>3</td>\n",
       "      <td>Moran, Mr. James</td>\n",
       "      <td>male</td>\n",
       "      <td>NaN</td>\n",
       "      <td>0</td>\n",
       "      <td>0</td>\n",
       "      <td>330877</td>\n",
       "      <td>8.4583</td>\n",
       "      <td>NaN</td>\n",
       "      <td>Q</td>\n",
       "    </tr>\n",
       "    <tr>\n",
       "      <th>6</th>\n",
       "      <td>7</td>\n",
       "      <td>0</td>\n",
       "      <td>1</td>\n",
       "      <td>McCarthy, Mr. Timothy J</td>\n",
       "      <td>male</td>\n",
       "      <td>54.0</td>\n",
       "      <td>0</td>\n",
       "      <td>0</td>\n",
       "      <td>17463</td>\n",
       "      <td>51.8625</td>\n",
       "      <td>E46</td>\n",
       "      <td>S</td>\n",
       "    </tr>\n",
       "    <tr>\n",
       "      <th>7</th>\n",
       "      <td>8</td>\n",
       "      <td>0</td>\n",
       "      <td>3</td>\n",
       "      <td>Palsson, Master. Gosta Leonard</td>\n",
       "      <td>male</td>\n",
       "      <td>2.0</td>\n",
       "      <td>3</td>\n",
       "      <td>1</td>\n",
       "      <td>349909</td>\n",
       "      <td>21.0750</td>\n",
       "      <td>NaN</td>\n",
       "      <td>S</td>\n",
       "    </tr>\n",
       "    <tr>\n",
       "      <th>8</th>\n",
       "      <td>9</td>\n",
       "      <td>1</td>\n",
       "      <td>3</td>\n",
       "      <td>Johnson, Mrs. Oscar W (Elisabeth Vilhelmina Berg)</td>\n",
       "      <td>female</td>\n",
       "      <td>27.0</td>\n",
       "      <td>0</td>\n",
       "      <td>2</td>\n",
       "      <td>347742</td>\n",
       "      <td>11.1333</td>\n",
       "      <td>NaN</td>\n",
       "      <td>S</td>\n",
       "    </tr>\n",
       "    <tr>\n",
       "      <th>9</th>\n",
       "      <td>10</td>\n",
       "      <td>1</td>\n",
       "      <td>2</td>\n",
       "      <td>Nasser, Mrs. Nicholas (Adele Achem)</td>\n",
       "      <td>female</td>\n",
       "      <td>14.0</td>\n",
       "      <td>1</td>\n",
       "      <td>0</td>\n",
       "      <td>237736</td>\n",
       "      <td>30.0708</td>\n",
       "      <td>NaN</td>\n",
       "      <td>C</td>\n",
       "    </tr>\n",
       "    <tr>\n",
       "      <th>10</th>\n",
       "      <td>11</td>\n",
       "      <td>1</td>\n",
       "      <td>3</td>\n",
       "      <td>Sandstrom, Miss. Marguerite Rut</td>\n",
       "      <td>female</td>\n",
       "      <td>4.0</td>\n",
       "      <td>1</td>\n",
       "      <td>1</td>\n",
       "      <td>PP 9549</td>\n",
       "      <td>16.7000</td>\n",
       "      <td>G6</td>\n",
       "      <td>S</td>\n",
       "    </tr>\n",
       "    <tr>\n",
       "      <th>11</th>\n",
       "      <td>12</td>\n",
       "      <td>1</td>\n",
       "      <td>1</td>\n",
       "      <td>Bonnell, Miss. Elizabeth</td>\n",
       "      <td>female</td>\n",
       "      <td>58.0</td>\n",
       "      <td>0</td>\n",
       "      <td>0</td>\n",
       "      <td>113783</td>\n",
       "      <td>26.5500</td>\n",
       "      <td>C103</td>\n",
       "      <td>S</td>\n",
       "    </tr>\n",
       "    <tr>\n",
       "      <th>12</th>\n",
       "      <td>13</td>\n",
       "      <td>0</td>\n",
       "      <td>3</td>\n",
       "      <td>Saundercock, Mr. William Henry</td>\n",
       "      <td>male</td>\n",
       "      <td>20.0</td>\n",
       "      <td>0</td>\n",
       "      <td>0</td>\n",
       "      <td>A/5. 2151</td>\n",
       "      <td>8.0500</td>\n",
       "      <td>NaN</td>\n",
       "      <td>S</td>\n",
       "    </tr>\n",
       "    <tr>\n",
       "      <th>13</th>\n",
       "      <td>14</td>\n",
       "      <td>0</td>\n",
       "      <td>3</td>\n",
       "      <td>Andersson, Mr. Anders Johan</td>\n",
       "      <td>male</td>\n",
       "      <td>39.0</td>\n",
       "      <td>1</td>\n",
       "      <td>5</td>\n",
       "      <td>347082</td>\n",
       "      <td>31.2750</td>\n",
       "      <td>NaN</td>\n",
       "      <td>S</td>\n",
       "    </tr>\n",
       "    <tr>\n",
       "      <th>14</th>\n",
       "      <td>15</td>\n",
       "      <td>0</td>\n",
       "      <td>3</td>\n",
       "      <td>Vestrom, Miss. Hulda Amanda Adolfina</td>\n",
       "      <td>female</td>\n",
       "      <td>14.0</td>\n",
       "      <td>0</td>\n",
       "      <td>0</td>\n",
       "      <td>350406</td>\n",
       "      <td>7.8542</td>\n",
       "      <td>NaN</td>\n",
       "      <td>S</td>\n",
       "    </tr>\n",
       "    <tr>\n",
       "      <th>15</th>\n",
       "      <td>16</td>\n",
       "      <td>1</td>\n",
       "      <td>2</td>\n",
       "      <td>Hewlett, Mrs. (Mary D Kingcome)</td>\n",
       "      <td>female</td>\n",
       "      <td>55.0</td>\n",
       "      <td>0</td>\n",
       "      <td>0</td>\n",
       "      <td>248706</td>\n",
       "      <td>16.0000</td>\n",
       "      <td>NaN</td>\n",
       "      <td>S</td>\n",
       "    </tr>\n",
       "    <tr>\n",
       "      <th>16</th>\n",
       "      <td>17</td>\n",
       "      <td>0</td>\n",
       "      <td>3</td>\n",
       "      <td>Rice, Master. Eugene</td>\n",
       "      <td>male</td>\n",
       "      <td>2.0</td>\n",
       "      <td>4</td>\n",
       "      <td>1</td>\n",
       "      <td>382652</td>\n",
       "      <td>29.1250</td>\n",
       "      <td>NaN</td>\n",
       "      <td>Q</td>\n",
       "    </tr>\n",
       "    <tr>\n",
       "      <th>17</th>\n",
       "      <td>18</td>\n",
       "      <td>1</td>\n",
       "      <td>2</td>\n",
       "      <td>Williams, Mr. Charles Eugene</td>\n",
       "      <td>male</td>\n",
       "      <td>NaN</td>\n",
       "      <td>0</td>\n",
       "      <td>0</td>\n",
       "      <td>244373</td>\n",
       "      <td>13.0000</td>\n",
       "      <td>NaN</td>\n",
       "      <td>S</td>\n",
       "    </tr>\n",
       "    <tr>\n",
       "      <th>18</th>\n",
       "      <td>19</td>\n",
       "      <td>0</td>\n",
       "      <td>3</td>\n",
       "      <td>Vander Planke, Mrs. Julius (Emelia Maria Vande...</td>\n",
       "      <td>female</td>\n",
       "      <td>31.0</td>\n",
       "      <td>1</td>\n",
       "      <td>0</td>\n",
       "      <td>345763</td>\n",
       "      <td>18.0000</td>\n",
       "      <td>NaN</td>\n",
       "      <td>S</td>\n",
       "    </tr>\n",
       "    <tr>\n",
       "      <th>19</th>\n",
       "      <td>20</td>\n",
       "      <td>1</td>\n",
       "      <td>3</td>\n",
       "      <td>Masselmani, Mrs. Fatima</td>\n",
       "      <td>female</td>\n",
       "      <td>NaN</td>\n",
       "      <td>0</td>\n",
       "      <td>0</td>\n",
       "      <td>2649</td>\n",
       "      <td>7.2250</td>\n",
       "      <td>NaN</td>\n",
       "      <td>C</td>\n",
       "    </tr>\n",
       "  </tbody>\n",
       "</table>\n",
       "</div>"
      ],
      "text/plain": [
       "    PassengerId  Survived  Pclass  \\\n",
       "0             1         0       3   \n",
       "1             2         1       1   \n",
       "2             3         1       3   \n",
       "3             4         1       1   \n",
       "4             5         0       3   \n",
       "5             6         0       3   \n",
       "6             7         0       1   \n",
       "7             8         0       3   \n",
       "8             9         1       3   \n",
       "9            10         1       2   \n",
       "10           11         1       3   \n",
       "11           12         1       1   \n",
       "12           13         0       3   \n",
       "13           14         0       3   \n",
       "14           15         0       3   \n",
       "15           16         1       2   \n",
       "16           17         0       3   \n",
       "17           18         1       2   \n",
       "18           19         0       3   \n",
       "19           20         1       3   \n",
       "\n",
       "                                                 Name     Sex   Age  SibSp  \\\n",
       "0                             Braund, Mr. Owen Harris    male  22.0      1   \n",
       "1   Cumings, Mrs. John Bradley (Florence Briggs Th...  female  38.0      1   \n",
       "2                              Heikkinen, Miss. Laina  female  26.0      0   \n",
       "3        Futrelle, Mrs. Jacques Heath (Lily May Peel)  female  35.0      1   \n",
       "4                            Allen, Mr. William Henry    male  35.0      0   \n",
       "5                                    Moran, Mr. James    male   NaN      0   \n",
       "6                             McCarthy, Mr. Timothy J    male  54.0      0   \n",
       "7                      Palsson, Master. Gosta Leonard    male   2.0      3   \n",
       "8   Johnson, Mrs. Oscar W (Elisabeth Vilhelmina Berg)  female  27.0      0   \n",
       "9                 Nasser, Mrs. Nicholas (Adele Achem)  female  14.0      1   \n",
       "10                    Sandstrom, Miss. Marguerite Rut  female   4.0      1   \n",
       "11                           Bonnell, Miss. Elizabeth  female  58.0      0   \n",
       "12                     Saundercock, Mr. William Henry    male  20.0      0   \n",
       "13                        Andersson, Mr. Anders Johan    male  39.0      1   \n",
       "14               Vestrom, Miss. Hulda Amanda Adolfina  female  14.0      0   \n",
       "15                   Hewlett, Mrs. (Mary D Kingcome)   female  55.0      0   \n",
       "16                               Rice, Master. Eugene    male   2.0      4   \n",
       "17                       Williams, Mr. Charles Eugene    male   NaN      0   \n",
       "18  Vander Planke, Mrs. Julius (Emelia Maria Vande...  female  31.0      1   \n",
       "19                            Masselmani, Mrs. Fatima  female   NaN      0   \n",
       "\n",
       "    Parch            Ticket     Fare Cabin Embarked  \n",
       "0       0         A/5 21171   7.2500   NaN        S  \n",
       "1       0          PC 17599  71.2833   C85        C  \n",
       "2       0  STON/O2. 3101282   7.9250   NaN        S  \n",
       "3       0            113803  53.1000  C123        S  \n",
       "4       0            373450   8.0500   NaN        S  \n",
       "5       0            330877   8.4583   NaN        Q  \n",
       "6       0             17463  51.8625   E46        S  \n",
       "7       1            349909  21.0750   NaN        S  \n",
       "8       2            347742  11.1333   NaN        S  \n",
       "9       0            237736  30.0708   NaN        C  \n",
       "10      1           PP 9549  16.7000    G6        S  \n",
       "11      0            113783  26.5500  C103        S  \n",
       "12      0         A/5. 2151   8.0500   NaN        S  \n",
       "13      5            347082  31.2750   NaN        S  \n",
       "14      0            350406   7.8542   NaN        S  \n",
       "15      0            248706  16.0000   NaN        S  \n",
       "16      1            382652  29.1250   NaN        Q  \n",
       "17      0            244373  13.0000   NaN        S  \n",
       "18      0            345763  18.0000   NaN        S  \n",
       "19      0              2649   7.2250   NaN        C  "
      ]
     },
     "execution_count": 2,
     "metadata": {},
     "output_type": "execute_result"
    }
   ],
   "source": [
    "train = pd.read_csv(open_csvfile('data\\\\train.csv'))\n",
    "train.head(20)"
   ]
  },
  {
   "cell_type": "markdown",
   "id": "25dd8966",
   "metadata": {},
   "source": [
    "# 2. Data Wrangling"
   ]
  },
  {
   "cell_type": "markdown",
   "id": "f4f17e57",
   "metadata": {},
   "source": [
    "Let's load our train and test set. We have a lot data wrangling to do..."
   ]
  },
  {
   "cell_type": "code",
   "execution_count": 3,
   "id": "90c45922",
   "metadata": {},
   "outputs": [
    {
     "name": "stdout",
     "output_type": "stream",
     "text": [
      "<class 'pandas.core.frame.DataFrame'>\n",
      "RangeIndex: 418 entries, 0 to 417\n",
      "Data columns (total 11 columns):\n",
      " #   Column       Non-Null Count  Dtype  \n",
      "---  ------       --------------  -----  \n",
      " 0   PassengerId  418 non-null    int64  \n",
      " 1   Pclass       418 non-null    int64  \n",
      " 2   Name         418 non-null    object \n",
      " 3   Sex          418 non-null    object \n",
      " 4   Age          332 non-null    float64\n",
      " 5   SibSp        418 non-null    int64  \n",
      " 6   Parch        418 non-null    int64  \n",
      " 7   Ticket       418 non-null    object \n",
      " 8   Fare         417 non-null    float64\n",
      " 9   Cabin        91 non-null     object \n",
      " 10  Embarked     418 non-null    object \n",
      "dtypes: float64(2), int64(4), object(5)\n",
      "memory usage: 36.0+ KB\n",
      "None\n"
     ]
    }
   ],
   "source": [
    "# Load train and test sets\n",
    "train = pd.read_csv(open_csvfile('data\\\\train.csv'))\n",
    "test = pd.read_csv(open_csvfile('data\\\\test.csv'))\n",
    "\n",
    "print(test.info())"
   ]
  },
  {
   "cell_type": "markdown",
   "id": "ae0a9165",
   "metadata": {},
   "source": [
    "Age, Fare and Cabin have some missing values. Step-by-step we take care of them. "
   ]
  },
  {
   "cell_type": "markdown",
   "id": "b58634af",
   "metadata": {},
   "source": [
    "# 2.1 Data cleaning"
   ]
  },
  {
   "cell_type": "code",
   "execution_count": 4,
   "id": "6f348052",
   "metadata": {},
   "outputs": [
    {
     "name": "stdout",
     "output_type": "stream",
     "text": [
      "     PassengerId  Pclass                Name   Sex   Age  SibSp  Parch Ticket  \\\n",
      "152         1044       3  Storey, Mr. Thomas  male  60.5      0      0   3701   \n",
      "\n",
      "     Fare Cabin Embarked  \n",
      "152   NaN   NaN        S  \n"
     ]
    }
   ],
   "source": [
    "# Looking in the data with a missing value in 'Fare'\n",
    "print(test.loc[test['Fare'].isnull()])"
   ]
  },
  {
   "cell_type": "markdown",
   "id": "b428a903",
   "metadata": {},
   "source": [
    "Hmmmm.... he's was in the 3rd class and feature 'Cabine' is missing as well. Maybe, we can find a similar person by class, SibSp, Parch and embarked (I think these features have some impact to the price)."
   ]
  },
  {
   "cell_type": "code",
   "execution_count": 5,
   "id": "6c1dbd8b",
   "metadata": {},
   "outputs": [
    {
     "name": "stdout",
     "output_type": "stream",
     "text": [
      "       PassengerId  Pclass        Age  SibSp  Parch       Fare\n",
      "count    92.000000    92.0  67.000000   92.0   92.0  91.000000\n",
      "mean   1094.347826     3.0  26.238806    0.0    0.0   9.339330\n",
      "std     113.881801     0.0   7.540978    0.0    0.0   6.437205\n",
      "min     895.000000     3.0  14.000000    0.0    0.0   7.000000\n",
      "25%     990.750000     3.0  21.500000    0.0    0.0   7.775000\n",
      "50%    1102.500000     3.0  25.000000    0.0    0.0   7.895800\n",
      "75%    1182.250000     3.0  29.000000    0.0    0.0   8.050000\n",
      "max    1308.000000     3.0  60.500000    0.0    0.0  56.495800\n"
     ]
    },
    {
     "data": {
      "image/png": "[encoded data removed]",
      "text/plain": [
       "<Figure size 2160x576 with 1 Axes>"
      ]
     },
     "metadata": {
      "needs_background": "light"
     },
     "output_type": "display_data"
    }
   ],
   "source": [
    "# Check for similar passengers\n",
    "print(test.loc[(test['Pclass'] == 3) & (test['SibSp']== 0) & (test['Parch'] == 0) & (test['Embarked'] == 'S')].describe())\n",
    "\n",
    "# Visualize distribution\n",
    "sns.set_theme(style = 'dark')\n",
    "sns.set(font_scale = 2)\n",
    "plt.figure(figsize=(30,8))\n",
    "\n",
    "ax = sns.boxplot(x = test.loc[(test['Pclass'] == 3) & (test['SibSp']== 0) & (test['Parch'] == 0) & (test['Embarked'] == 'S')]['Fare'])\n",
    "ax. set(xscale = 'log')\n",
    "plt.show()"
   ]
  },
  {
   "cell_type": "markdown",
   "id": "71361858",
   "metadata": {},
   "source": [
    "Ohhh no... there are some impactfully outliers. Let take them away..."
   ]
  },
  {
   "cell_type": "code",
   "execution_count": 6,
   "id": "a584a0f8",
   "metadata": {},
   "outputs": [
    {
     "data": {
      "image/png": "[encoded data removed]",
      "text/plain": [
       "<Figure size 2160x576 with 1 Axes>"
      ]
     },
     "metadata": {},
     "output_type": "display_data"
    },
    {
     "name": "stdout",
     "output_type": "stream",
     "text": [
      "The median is:  7.8958\n"
     ]
    }
   ],
   "source": [
    "# Visualize distribution without outliwers\n",
    "sns.set_theme(style = 'dark')\n",
    "sns.set(font_scale = 2)\n",
    "plt.figure(figsize=(30,8))\n",
    "\n",
    "ax = sns.boxplot(x = test.loc[(test['Pclass'] == 3) & (test['SibSp']== 0) & (test['Parch'] == 0) & (test['Embarked'] == 'S')]['Fare'], showfliers = False)\n",
    "\n",
    "plt.show()\n",
    "\n",
    "print('The median is: ', test.loc[(test['Pclass'] == 3) & (test['SibSp']== 0) & (test['Parch'] == 0) & (test['Embarked'] == 'S')]['Fare'].median())"
   ]
  },
  {
   "cell_type": "markdown",
   "id": "77144359",
   "metadata": {},
   "source": [
    "We will replace the missing value in 'Fare' with the median."
   ]
  },
  {
   "cell_type": "code",
   "execution_count": 7,
   "id": "f89fed43",
   "metadata": {},
   "outputs": [],
   "source": [
    "# Put the median into the missing value\n",
    "test['Fare'].fillna(test.loc[(test['Pclass'] == 3) & (test['SibSp']== 0) & (test['Parch'] == 0) & (test['Embarked'] == 'S')]['Fare'].median(), inplace = True)"
   ]
  },
  {
   "cell_type": "markdown",
   "id": "eb8b1e25",
   "metadata": {},
   "source": [
    "Now, let's stehp to the next feature with missing values...'Age' (why didn't they know there age?!)"
   ]
  },
  {
   "cell_type": "code",
   "execution_count": 8,
   "id": "fffa8c73",
   "metadata": {},
   "outputs": [
    {
     "name": "stdout",
     "output_type": "stream",
     "text": [
      "Total missing values in Age:  86\n",
      "Total values in Age:  332\n",
      "Total :  418\n"
     ]
    }
   ],
   "source": [
    "print('Total missing values in Age: ', test['Age'].isnull().sum())\n",
    "print('Total values in Age: ', test['Age'].notnull().sum())\n",
    "print('Total : ', test['Age'].value_counts(dropna = False).sum())"
   ]
  },
  {
   "cell_type": "markdown",
   "id": "944d74c2",
   "metadata": {},
   "source": [
    "We can't remove this amount of data. A better strategy is to impute the missing value. For the feature 'Age' we use the mulitvarite imputation from scikit-learn. More information about the imputation, click on this [link](https://scikit-learn.org/stable/modules/impute.html#impute)."
   ]
  },
  {
   "cell_type": "code",
   "execution_count": 9,
   "id": "aa5cf69e",
   "metadata": {},
   "outputs": [],
   "source": [
    "# Define the imputer\n",
    "imp_age = IterativeImputer(max_iter=100, random_state=34, n_nearest_features=3)\n",
    "\n",
    "# Impute Age\n",
    "train[\"Age\"] = np.round(imp_age.fit_transform(train[[\"Age\"]]))\n",
    "test[\"Age\"] = np.round(imp_age.transform(test[[\"Age\"]]))"
   ]
  },
  {
   "cell_type": "markdown",
   "id": "321674a3",
   "metadata": {},
   "source": [
    "Next step we do the same with the feature 'Deck'. Here we have some missing values in each dataset.  However, first we have to extract the Deck from the both datasets. For the missing values in 'Deck' we use the K-Nearest Neighbor imputation ([KNNImputer](https://scikit-learn.org/stable/modules/impute.html#iterative-imputer))."
   ]
  },
  {
   "cell_type": "code",
   "execution_count": 10,
   "id": "e3159089",
   "metadata": {},
   "outputs": [],
   "source": [
    "# split Cabine into 'Deck' and 'Room'\n",
    "train['Deck'] = train['Cabin'].str[:1]\n",
    "del train['Cabin']\n",
    "test['Deck'] = test['Cabin'].str[:1]\n",
    "del test['Cabin']"
   ]
  },
  {
   "cell_type": "markdown",
   "id": "3ae20e72",
   "metadata": {},
   "source": [
    "![Titanic deck image](data\\\\titanic_deck.jpg 'Titanic deck image')\n",
    "When you google about Titanic, you can find a description of the ship. As you can see in the image...there is no deck 'T'. Let's clean our datasets from this incorrect value."
   ]
  },
  {
   "cell_type": "code",
   "execution_count": 11,
   "id": "c04d62d1",
   "metadata": {},
   "outputs": [
    {
     "name": "stdout",
     "output_type": "stream",
     "text": [
      "Deck in train set:\n",
      " C    59\n",
      "B    47\n",
      "D    33\n",
      "E    32\n",
      "A    15\n",
      "F    13\n",
      "G     4\n",
      "T     1\n",
      "Name: Deck, dtype: int64\n",
      "\n",
      "Deck in test set:\n",
      " C    35\n",
      "B    18\n",
      "D    13\n",
      "E     9\n",
      "F     8\n",
      "A     7\n",
      "G     1\n",
      "Name: Deck, dtype: int64\n"
     ]
    }
   ],
   "source": [
    "print('Deck in train set:\\n',train['Deck'].value_counts())\n",
    "print('')\n",
    "print('Deck in test set:\\n',test['Deck'].value_counts())"
   ]
  },
  {
   "cell_type": "code",
   "execution_count": 12,
   "id": "f7e35b28",
   "metadata": {},
   "outputs": [],
   "source": [
    "# Replace deck 'T' with NaN\n",
    "train['Deck'].replace('T', np.NaN, inplace = True)"
   ]
  },
  {
   "cell_type": "markdown",
   "id": "81a4141d",
   "metadata": {},
   "source": [
    "Now, we have to do two steps.\n",
    "1. We encode the feature 'Deck'.\n",
    "2. We impute with the KNNImputer"
   ]
  },
  {
   "cell_type": "code",
   "execution_count": 13,
   "id": "f02cc69d",
   "metadata": {},
   "outputs": [],
   "source": [
    "# Encode the datasets\n",
    "train['Deckmap'] = train['Deck'].map({'A' : 0, \n",
    "                                      'B' : 1,\n",
    "                                      'C' : 2,\n",
    "                                      'D' : 3,\n",
    "                                      'E' : 4,\n",
    "                                      'F' : 5,\n",
    "                                      'G' : 6})\n",
    "\n",
    "test['Deckmap'] = test['Deck'].map({'A' : 0, \n",
    "                                    'B' : 1,\n",
    "                                    'C' : 2,\n",
    "                                    'D' : 3,\n",
    "                                    'E' : 4,\n",
    "                                    'F' : 5,\n",
    "                                    'G' : 6})"
   ]
  },
  {
   "cell_type": "code",
   "execution_count": 14,
   "id": "ae0df467",
   "metadata": {},
   "outputs": [],
   "source": [
    "# Encode wit LabelEncoder\n",
    "imp_deck = KNNImputer(n_neighbors = 6, weights = 'uniform')\n",
    "\n",
    "train['Deckmap'] = imp_deck.fit_transform(train[['Deckmap']])\n",
    "test['Deckmap'] = imp_deck.transform(test[['Deckmap']])\n",
    "\n",
    "# Assign to a deck\n",
    "train['Deckmap'] = train['Deckmap'].round(0)\n",
    "test['Deckmap'] = test['Deckmap'].round(0)"
   ]
  },
  {
   "cell_type": "markdown",
   "id": "37b0e0e4",
   "metadata": {},
   "source": [
    "Let's encode it back again."
   ]
  },
  {
   "cell_type": "code",
   "execution_count": 15,
   "id": "33b02e26",
   "metadata": {},
   "outputs": [],
   "source": [
    "# decode the datasets\n",
    "train['Deck'] = train['Deckmap'].replace({0 : 'A', \n",
    "                                      1 : 'B',\n",
    "                                      2 : 'C',\n",
    "                                      3 : 'D',\n",
    "                                      4 : 'E',\n",
    "                                      5 : 'F',\n",
    "                                      6 : 'G'})\n",
    "\n",
    "test['Deck'] = test['Deckmap'].replace({0 : 'A', \n",
    "                                    1 : 'B',\n",
    "                                    2 : 'C',\n",
    "                                    3 : 'D',\n",
    "                                    4 : 'E',\n",
    "                                    5 : 'F',\n",
    "                                    6 : 'G'})\n",
    "\n",
    "# Delete 'Deckmap'\n",
    "del train['Deckmap']\n",
    "del test['Deckmap']"
   ]
  },
  {
   "cell_type": "markdown",
   "id": "965ed58e",
   "metadata": {},
   "source": [
    "So, after we did all the cleaning, we have look to our datasets.... aaahhh how satisfying... no missing values anymore!"
   ]
  },
  {
   "cell_type": "code",
   "execution_count": 16,
   "id": "76179ddc",
   "metadata": {},
   "outputs": [
    {
     "name": "stdout",
     "output_type": "stream",
     "text": [
      "<class 'pandas.core.frame.DataFrame'>\n",
      "RangeIndex: 891 entries, 0 to 890\n",
      "Data columns (total 12 columns):\n",
      " #   Column       Non-Null Count  Dtype  \n",
      "---  ------       --------------  -----  \n",
      " 0   PassengerId  891 non-null    int64  \n",
      " 1   Survived     891 non-null    int64  \n",
      " 2   Pclass       891 non-null    int64  \n",
      " 3   Name         891 non-null    object \n",
      " 4   Sex          891 non-null    object \n",
      " 5   Age          891 non-null    float64\n",
      " 6   SibSp        891 non-null    int64  \n",
      " 7   Parch        891 non-null    int64  \n",
      " 8   Ticket       891 non-null    object \n",
      " 9   Fare         891 non-null    float64\n",
      " 10  Embarked     889 non-null    object \n",
      " 11  Deck         891 non-null    object \n",
      "dtypes: float64(2), int64(5), object(5)\n",
      "memory usage: 83.7+ KB\n",
      "None\n",
      "\n",
      "<class 'pandas.core.frame.DataFrame'>\n",
      "RangeIndex: 418 entries, 0 to 417\n",
      "Data columns (total 11 columns):\n",
      " #   Column       Non-Null Count  Dtype  \n",
      "---  ------       --------------  -----  \n",
      " 0   PassengerId  418 non-null    int64  \n",
      " 1   Pclass       418 non-null    int64  \n",
      " 2   Name         418 non-null    object \n",
      " 3   Sex          418 non-null    object \n",
      " 4   Age          418 non-null    float64\n",
      " 5   SibSp        418 non-null    int64  \n",
      " 6   Parch        418 non-null    int64  \n",
      " 7   Ticket       418 non-null    object \n",
      " 8   Fare         418 non-null    float64\n",
      " 9   Embarked     418 non-null    object \n",
      " 10  Deck         418 non-null    object \n",
      "dtypes: float64(2), int64(4), object(5)\n",
      "memory usage: 36.0+ KB\n",
      "None\n"
     ]
    }
   ],
   "source": [
    "print(train.info())\n",
    "print('')\n",
    "print(test.info())"
   ]
  },
  {
   "cell_type": "markdown",
   "id": "1b04514e",
   "metadata": {},
   "source": [
    "## 2.2 Keep the right data"
   ]
  },
  {
   "cell_type": "markdown",
   "id": "71dbc7b8",
   "metadata": {},
   "source": [
    "Now, we have to extract the title from the name feature. We group the titles in hight, middle and low titles: <br>\n",
    "<br>\n",
    "High titles = the Countess, Mlle, Lady, Ms, Sir, Mme, Mrs, Miss, Master <br>\n",
    "Middle titles = Major, Col, Dr <br>\n",
    "Low titles = everything else <br>"
   ]
  },
  {
   "cell_type": "code",
   "execution_count": 17,
   "id": "a6431246",
   "metadata": {},
   "outputs": [],
   "source": [
    "# Keep only titles\n",
    "train[\"Title\"] = train['Name'].str.split(', ', expand=True)[1].str.split('.', expand=True)[0]\n",
    "test[\"Title\"] = test['Name'].str.split(', ', expand=True)[1].str.split('.', expand=True)[0]\n",
    "\n",
    "# Group the Title column    \n",
    "def assign_title_label(title):\n",
    "    if title in [\"the Countess\", \"Mlle\", \"Lady\", \"Ms\", \"Sir\", \"Mme\", \"Mrs\", \"Miss\", \"Master\"]:\n",
    "        return \"Title_high\"\n",
    "    elif title in [\"Major\", \"Col\", \"Dr\"]:\n",
    "        return \"Title_middle\"\n",
    "    else:\n",
    "        return \"Title_low\""
   ]
  },
  {
   "cell_type": "code",
   "execution_count": 18,
   "id": "69acf5be",
   "metadata": {},
   "outputs": [],
   "source": [
    "# Apply function\n",
    "train[\"Title\"] = train[\"Title\"].apply(assign_title_label)\n",
    "test[\"Title\"] = test[\"Title\"].apply(assign_title_label)"
   ]
  },
  {
   "cell_type": "markdown",
   "id": "f73b85a1",
   "metadata": {},
   "source": [
    "We create a new feature! We combine the 'SibSp' and 'Parch' to make a new feature called 'Family_size' and group them to diffrent family size: <br> \n",
    "<br>\n",
    "Family_size = 0: Alone <br>\n",
    "Family_size <= 3: Family_small <br>\n",
    "Family_size > 3: Family_big <br>"
   ]
  },
  {
   "cell_type": "code",
   "execution_count": 19,
   "id": "600837b4",
   "metadata": {},
   "outputs": [],
   "source": [
    "# Cobine 'SiSp' and 'Parch' to Family Size\n",
    "train['Family_size'] = train['SibSp'] + train['Parch']\n",
    "test['Family_size'] = test['SibSp'] + test['Parch']\n",
    "\n",
    "# Group the family size\n",
    "def assign_family_label(family_size):\n",
    "    if family_size == 0:\n",
    "        return 'Alone'\n",
    "    elif family_size <=3:\n",
    "        return 'Family_small'\n",
    "    else:\n",
    "        return 'Family_big'"
   ]
  },
  {
   "cell_type": "code",
   "execution_count": 20,
   "id": "cc8a5efe",
   "metadata": {},
   "outputs": [],
   "source": [
    "# Apply function\n",
    "train['Family_size'] = train['Family_size'].apply(assign_family_label)\n",
    "test['Family_size'] = test['Family_size'].apply(assign_family_label)"
   ]
  },
  {
   "cell_type": "markdown",
   "id": "416cc08a",
   "metadata": {},
   "source": [
    "## 2.3 Unusfull data"
   ]
  },
  {
   "cell_type": "markdown",
   "id": "1fa5f021",
   "metadata": {},
   "source": [
    "For our machine learning case, we don't want unnecessary data. So, let us remove them."
   ]
  },
  {
   "cell_type": "code",
   "execution_count": 21,
   "id": "55fc790d",
   "metadata": {},
   "outputs": [],
   "source": [
    "# Remove PassengerId\n",
    "del train['PassengerId']\n",
    "del test['PassengerId']\n",
    "\n",
    "# Remove Ticker\n",
    "del train['Ticket']\n",
    "del test['Ticket']\n",
    "\n",
    "# Remove Name\n",
    "del train['Name']\n",
    "del test['Name']\n",
    "\n",
    "# Remove SibSp\n",
    "del train['SibSp']\n",
    "del test['SibSp']\n",
    "\n",
    "# Remove Parch\n",
    "del train['Parch']\n",
    "del test['Parch']"
   ]
  },
  {
   "cell_type": "markdown",
   "id": "bd6574b9",
   "metadata": {},
   "source": [
    "## 2.4 Data type"
   ]
  },
  {
   "cell_type": "code",
   "execution_count": 22,
   "id": "7da11552",
   "metadata": {},
   "outputs": [
    {
     "name": "stdout",
     "output_type": "stream",
     "text": [
      "Survived         int64\n",
      "Pclass           int64\n",
      "Sex             object\n",
      "Age            float64\n",
      "Fare           float64\n",
      "Embarked        object\n",
      "Deck            object\n",
      "Title           object\n",
      "Family_size     object\n",
      "dtype: object\n",
      "\n",
      "Pclass           int64\n",
      "Sex             object\n",
      "Age            float64\n",
      "Fare           float64\n",
      "Embarked        object\n",
      "Deck            object\n",
      "Title           object\n",
      "Family_size     object\n",
      "dtype: object\n"
     ]
    }
   ],
   "source": [
    "print(train.dtypes)\n",
    "print('')\n",
    "print(test.dtypes)"
   ]
  },
  {
   "cell_type": "markdown",
   "id": "4beef154",
   "metadata": {},
   "source": [
    "We encode our objects with the LabelEncoder from scikit-learn."
   ]
  },
  {
   "cell_type": "code",
   "execution_count": 23,
   "id": "94c3735b",
   "metadata": {},
   "outputs": [],
   "source": [
    "# Initialize a Label Encoder\n",
    "le = LabelEncoder()\n",
    "\n",
    "# Encode Sex\n",
    "train['Sex'] = le.fit_transform(train[['Sex']].values.ravel())\n",
    "test['Sex'] = le.fit_transform(test[['Sex']].values.ravel())\n",
    "\n",
    "# Encode Embarked\n",
    "train['Embarked'] = le.fit_transform(train[['Embarked']].values.ravel())\n",
    "test['Embarked'] = le.fit_transform(test[['Embarked']].values.ravel())\n",
    "\n",
    "# Encode Deck\n",
    "train['Deck'] = le.fit_transform(train[['Deck']].values.ravel())\n",
    "test['Deck'] = le.fit_transform(test[['Deck']].values.ravel())\n",
    "\n",
    "# Encode Title\n",
    "train['Title'] = le.fit_transform(train[['Title']].values.ravel())\n",
    "test['Title'] = le.fit_transform(test[['Title']].values.ravel())\n",
    "\n",
    "# Encode Family_size\n",
    "train['Family_size'] = le.fit_transform(train[['Family_size']].values.ravel())\n",
    "test['Family_size'] = le.fit_transform(test[['Family_size']].values.ravel())"
   ]
  },
  {
   "cell_type": "markdown",
   "id": "441c98ed",
   "metadata": {},
   "source": [
    "# 3. Export data"
   ]
  },
  {
   "cell_type": "code",
   "execution_count": 32,
   "id": "7c469986",
   "metadata": {},
   "outputs": [],
   "source": [
    "train.to_csv(r'data\\\\train_prep.csv')\n",
    "test.to_csv(r'data\\\\test_prep.csv')"
   ]
  }
 ],
 "metadata": {
  "kernelspec": {
   "display_name": "Python 3 (ipykernel)",
   "language": "python",
   "name": "python3"
  },
  "language_info": {
   "codemirror_mode": {
    "name": "ipython",
    "version": 3
   },
   "file_extension": ".py",
   "mimetype": "text/x-python",
   "name": "python",
   "nbconvert_exporter": "python",
   "pygments_lexer": "ipython3",
   "version": "3.9.7"
  }
 },
 "nbformat": 4,
 "nbformat_minor": 5
}
