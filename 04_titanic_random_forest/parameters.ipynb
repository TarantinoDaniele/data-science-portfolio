{
 "cells": [
  {
   "cell_type": "code",
   "execution_count": 1,
   "id": "e37c0152",
   "metadata": {},
   "outputs": [
    {
     "name": "stderr",
     "output_type": "stream",
     "text": [
      "[NbConvertApp] Converting notebook parameters.ipynb to script\n",
      "[NbConvertApp] Writing 481 bytes to parameters.py\n"
     ]
    }
   ],
   "source": [
    "# generate a .py for parameter storage\n",
    "#!jupyter nbconvert --to script parameters.ipynb"
   ]
  },
  {
   "cell_type": "code",
   "execution_count": 2,
   "id": "f1f8be7f",
   "metadata": {},
   "outputs": [
    {
     "name": "stderr",
     "output_type": "stream",
     "text": [
      "C:\\Users\\danie\\AppData\\Local\\Temp\\ipykernel_17764\\1444747951.py:3: DeprecationWarning: Importing display from IPython.core.display is deprecated since IPython 7.14, please import from IPython display\n",
      "  from IPython.core.display import display, HTML\n"
     ]
    },
    {
     "data": {
      "text/html": [
       "<style>.container { width: 90% !important; }</style>"
      ],
      "text/plain": [
       "<IPython.core.display.HTML object>"
      ]
     },
     "metadata": {},
     "output_type": "display_data"
    }
   ],
   "source": [
    "import os\n",
    "\n",
    "from IPython.core.display import display, HTML\n",
    "display(HTML(\"<style>.container { width: 90% !important; }</style>\"))"
   ]
  },
  {
   "cell_type": "markdown",
   "id": "905389f4",
   "metadata": {},
   "source": [
    "## Import fun"
   ]
  },
  {
   "cell_type": "code",
   "execution_count": 3,
   "id": "84237437",
   "metadata": {},
   "outputs": [],
   "source": [
    "def open_csvfile(filename):\n",
    "    pwd = os.getcwd()\n",
    "    path_dir = pwd\n",
    "    filename = filename\n",
    "    \n",
    "    path: str = path_dir + '\\\\' + filename\n",
    "    return path"
   ]
  },
  {
   "cell_type": "code",
   "execution_count": null,
   "id": "a6011be3",
   "metadata": {},
   "outputs": [],
   "source": []
  }
 ],
 "metadata": {
  "kernelspec": {
   "display_name": "Python 3 (ipykernel)",
   "language": "python",
   "name": "python3"
  },
  "language_info": {
   "codemirror_mode": {
    "name": "ipython",
    "version": 3
   },
   "file_extension": ".py",
   "mimetype": "text/x-python",
   "name": "python",
   "nbconvert_exporter": "python",
   "pygments_lexer": "ipython3",
   "version": "3.9.7"
  }
 },
 "nbformat": 4,
 "nbformat_minor": 5
}
